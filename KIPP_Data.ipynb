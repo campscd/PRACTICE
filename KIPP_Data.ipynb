{
 "cells": [
  {
   "cell_type": "code",
   "execution_count": 1,
   "id": "5fceea92",
   "metadata": {},
   "outputs": [],
   "source": [
    "import pandas as pd\n",
    "import numpy as np"
   ]
  },
  {
   "cell_type": "code",
   "execution_count": 2,
   "id": "afd02f7b",
   "metadata": {},
   "outputs": [],
   "source": [
    "enrollment = pd.read_excel('Performance_Task.xlsx',sheet_name = 'Enrollment')"
   ]
  },
  {
   "cell_type": "code",
   "execution_count": 3,
   "id": "3b5e8d9f",
   "metadata": {},
   "outputs": [
    {
     "data": {
      "text/html": [
       "<div>\n",
       "<style scoped>\n",
       "    .dataframe tbody tr th:only-of-type {\n",
       "        vertical-align: middle;\n",
       "    }\n",
       "\n",
       "    .dataframe tbody tr th {\n",
       "        vertical-align: top;\n",
       "    }\n",
       "\n",
       "    .dataframe thead th {\n",
       "        text-align: right;\n",
       "    }\n",
       "</style>\n",
       "<table border=\"1\" class=\"dataframe\">\n",
       "  <thead>\n",
       "    <tr style=\"text-align: right;\">\n",
       "      <th></th>\n",
       "      <th>student_id</th>\n",
       "      <th>school_name</th>\n",
       "      <th>grade_level_2019</th>\n",
       "    </tr>\n",
       "  </thead>\n",
       "  <tbody>\n",
       "    <tr>\n",
       "      <th>0</th>\n",
       "      <td>13898</td>\n",
       "      <td>School G</td>\n",
       "      <td>1</td>\n",
       "    </tr>\n",
       "    <tr>\n",
       "      <th>1</th>\n",
       "      <td>27795</td>\n",
       "      <td>School G</td>\n",
       "      <td>1</td>\n",
       "    </tr>\n",
       "    <tr>\n",
       "      <th>2</th>\n",
       "      <td>22938</td>\n",
       "      <td>School E</td>\n",
       "      <td>1</td>\n",
       "    </tr>\n",
       "    <tr>\n",
       "      <th>3</th>\n",
       "      <td>22431</td>\n",
       "      <td>School F</td>\n",
       "      <td>1</td>\n",
       "    </tr>\n",
       "    <tr>\n",
       "      <th>4</th>\n",
       "      <td>18048</td>\n",
       "      <td>School E</td>\n",
       "      <td>1</td>\n",
       "    </tr>\n",
       "  </tbody>\n",
       "</table>\n",
       "</div>"
      ],
      "text/plain": [
       "   student_id school_name  grade_level_2019\n",
       "0       13898    School G                 1\n",
       "1       27795    School G                 1\n",
       "2       22938    School E                 1\n",
       "3       22431    School F                 1\n",
       "4       18048    School E                 1"
      ]
     },
     "execution_count": 3,
     "metadata": {},
     "output_type": "execute_result"
    }
   ],
   "source": [
    "enrollment.head()"
   ]
  },
  {
   "cell_type": "code",
   "execution_count": 4,
   "id": "5a44c6b1",
   "metadata": {},
   "outputs": [
    {
     "data": {
      "text/plain": [
       "(2788, 3)"
      ]
     },
     "execution_count": 4,
     "metadata": {},
     "output_type": "execute_result"
    }
   ],
   "source": [
    "enrollment.shape"
   ]
  },
  {
   "cell_type": "code",
   "execution_count": 5,
   "id": "c5772ddc",
   "metadata": {},
   "outputs": [],
   "source": [
    "MAP_scores = pd.read_excel('Performance_Task.xlsx',sheet_name = 'MAP Scores')"
   ]
  },
  {
   "cell_type": "code",
   "execution_count": 6,
   "id": "13af5d50",
   "metadata": {},
   "outputs": [
    {
     "data": {
      "text/html": [
       "<div>\n",
       "<style scoped>\n",
       "    .dataframe tbody tr th:only-of-type {\n",
       "        vertical-align: middle;\n",
       "    }\n",
       "\n",
       "    .dataframe tbody tr th {\n",
       "        vertical-align: top;\n",
       "    }\n",
       "\n",
       "    .dataframe thead th {\n",
       "        text-align: right;\n",
       "    }\n",
       "</style>\n",
       "<table border=\"1\" class=\"dataframe\">\n",
       "  <thead>\n",
       "    <tr style=\"text-align: right;\">\n",
       "      <th></th>\n",
       "      <th>student_id</th>\n",
       "      <th>year</th>\n",
       "      <th>map_term</th>\n",
       "      <th>subject</th>\n",
       "      <th>rit_score</th>\n",
       "      <th>percentile</th>\n",
       "      <th>quartile</th>\n",
       "      <th>typical_fall_to_spring_growth</th>\n",
       "    </tr>\n",
       "  </thead>\n",
       "  <tbody>\n",
       "    <tr>\n",
       "      <th>0</th>\n",
       "      <td>13898</td>\n",
       "      <td>2019</td>\n",
       "      <td>Fall</td>\n",
       "      <td>Reading</td>\n",
       "      <td>161</td>\n",
       "      <td>59</td>\n",
       "      <td>3</td>\n",
       "      <td>18</td>\n",
       "    </tr>\n",
       "    <tr>\n",
       "      <th>1</th>\n",
       "      <td>27795</td>\n",
       "      <td>2019</td>\n",
       "      <td>Fall</td>\n",
       "      <td>Reading</td>\n",
       "      <td>158</td>\n",
       "      <td>50</td>\n",
       "      <td>3</td>\n",
       "      <td>19</td>\n",
       "    </tr>\n",
       "    <tr>\n",
       "      <th>2</th>\n",
       "      <td>22938</td>\n",
       "      <td>2019</td>\n",
       "      <td>Fall</td>\n",
       "      <td>Reading</td>\n",
       "      <td>162</td>\n",
       "      <td>62</td>\n",
       "      <td>3</td>\n",
       "      <td>18</td>\n",
       "    </tr>\n",
       "    <tr>\n",
       "      <th>3</th>\n",
       "      <td>22431</td>\n",
       "      <td>2019</td>\n",
       "      <td>Fall</td>\n",
       "      <td>Reading</td>\n",
       "      <td>162</td>\n",
       "      <td>62</td>\n",
       "      <td>3</td>\n",
       "      <td>18</td>\n",
       "    </tr>\n",
       "    <tr>\n",
       "      <th>4</th>\n",
       "      <td>18048</td>\n",
       "      <td>2019</td>\n",
       "      <td>Fall</td>\n",
       "      <td>Reading</td>\n",
       "      <td>166</td>\n",
       "      <td>73</td>\n",
       "      <td>3</td>\n",
       "      <td>17</td>\n",
       "    </tr>\n",
       "  </tbody>\n",
       "</table>\n",
       "</div>"
      ],
      "text/plain": [
       "   student_id  year map_term  subject rit_score percentile quartile  \\\n",
       "0       13898  2019     Fall  Reading       161         59        3   \n",
       "1       27795  2019     Fall  Reading       158         50        3   \n",
       "2       22938  2019     Fall  Reading       162         62        3   \n",
       "3       22431  2019     Fall  Reading       162         62        3   \n",
       "4       18048  2019     Fall  Reading       166         73        3   \n",
       "\n",
       "  typical_fall_to_spring_growth  \n",
       "0                            18  \n",
       "1                            19  \n",
       "2                            18  \n",
       "3                            18  \n",
       "4                            17  "
      ]
     },
     "execution_count": 6,
     "metadata": {},
     "output_type": "execute_result"
    }
   ],
   "source": [
    "MAP_scores.head()"
   ]
  },
  {
   "cell_type": "code",
   "execution_count": 7,
   "id": "9eef66eb",
   "metadata": {},
   "outputs": [
    {
     "data": {
      "text/plain": [
       "(11118, 8)"
      ]
     },
     "execution_count": 7,
     "metadata": {},
     "output_type": "execute_result"
    }
   ],
   "source": [
    "MAP_scores.shape"
   ]
  },
  {
   "cell_type": "code",
   "execution_count": 8,
   "id": "29bd2d79",
   "metadata": {},
   "outputs": [],
   "source": [
    "data = pd.merge(enrollment, MAP_scores, on = 'student_id')"
   ]
  },
  {
   "cell_type": "code",
   "execution_count": 9,
   "id": "171c1435",
   "metadata": {},
   "outputs": [
    {
     "data": {
      "text/html": [
       "<div>\n",
       "<style scoped>\n",
       "    .dataframe tbody tr th:only-of-type {\n",
       "        vertical-align: middle;\n",
       "    }\n",
       "\n",
       "    .dataframe tbody tr th {\n",
       "        vertical-align: top;\n",
       "    }\n",
       "\n",
       "    .dataframe thead th {\n",
       "        text-align: right;\n",
       "    }\n",
       "</style>\n",
       "<table border=\"1\" class=\"dataframe\">\n",
       "  <thead>\n",
       "    <tr style=\"text-align: right;\">\n",
       "      <th></th>\n",
       "      <th>student_id</th>\n",
       "      <th>school_name</th>\n",
       "      <th>grade_level_2019</th>\n",
       "      <th>year</th>\n",
       "      <th>map_term</th>\n",
       "      <th>subject</th>\n",
       "      <th>rit_score</th>\n",
       "      <th>percentile</th>\n",
       "      <th>quartile</th>\n",
       "      <th>typical_fall_to_spring_growth</th>\n",
       "    </tr>\n",
       "  </thead>\n",
       "  <tbody>\n",
       "    <tr>\n",
       "      <th>0</th>\n",
       "      <td>13898</td>\n",
       "      <td>School G</td>\n",
       "      <td>1</td>\n",
       "      <td>2019</td>\n",
       "      <td>Fall</td>\n",
       "      <td>Reading</td>\n",
       "      <td>161</td>\n",
       "      <td>59</td>\n",
       "      <td>3</td>\n",
       "      <td>18</td>\n",
       "    </tr>\n",
       "    <tr>\n",
       "      <th>1</th>\n",
       "      <td>13898</td>\n",
       "      <td>School G</td>\n",
       "      <td>1</td>\n",
       "      <td>2019</td>\n",
       "      <td>Fall</td>\n",
       "      <td>Math</td>\n",
       "      <td>166</td>\n",
       "      <td>69</td>\n",
       "      <td>3</td>\n",
       "      <td>20</td>\n",
       "    </tr>\n",
       "    <tr>\n",
       "      <th>2</th>\n",
       "      <td>13898</td>\n",
       "      <td>School G</td>\n",
       "      <td>1</td>\n",
       "      <td>2019</td>\n",
       "      <td>Spring</td>\n",
       "      <td>Reading</td>\n",
       "      <td>175</td>\n",
       "      <td>43</td>\n",
       "      <td>2</td>\n",
       "      <td>.</td>\n",
       "    </tr>\n",
       "    <tr>\n",
       "      <th>3</th>\n",
       "      <td>13898</td>\n",
       "      <td>School G</td>\n",
       "      <td>1</td>\n",
       "      <td>2019</td>\n",
       "      <td>Spring</td>\n",
       "      <td>Math</td>\n",
       "      <td>186</td>\n",
       "      <td>65</td>\n",
       "      <td>3</td>\n",
       "      <td>.</td>\n",
       "    </tr>\n",
       "    <tr>\n",
       "      <th>4</th>\n",
       "      <td>27795</td>\n",
       "      <td>School G</td>\n",
       "      <td>1</td>\n",
       "      <td>2019</td>\n",
       "      <td>Fall</td>\n",
       "      <td>Reading</td>\n",
       "      <td>158</td>\n",
       "      <td>50</td>\n",
       "      <td>3</td>\n",
       "      <td>19</td>\n",
       "    </tr>\n",
       "  </tbody>\n",
       "</table>\n",
       "</div>"
      ],
      "text/plain": [
       "   student_id school_name  grade_level_2019  year map_term  subject rit_score  \\\n",
       "0       13898    School G                 1  2019     Fall  Reading       161   \n",
       "1       13898    School G                 1  2019     Fall     Math       166   \n",
       "2       13898    School G                 1  2019   Spring  Reading       175   \n",
       "3       13898    School G                 1  2019   Spring     Math       186   \n",
       "4       27795    School G                 1  2019     Fall  Reading       158   \n",
       "\n",
       "  percentile quartile typical_fall_to_spring_growth  \n",
       "0         59        3                            18  \n",
       "1         69        3                            20  \n",
       "2         43        2                             .  \n",
       "3         65        3                             .  \n",
       "4         50        3                            19  "
      ]
     },
     "execution_count": 9,
     "metadata": {},
     "output_type": "execute_result"
    }
   ],
   "source": [
    "data.head()"
   ]
  },
  {
   "cell_type": "code",
   "execution_count": 10,
   "id": "3a383f8c",
   "metadata": {},
   "outputs": [],
   "source": [
    "Spec_Programs = pd.read_excel('Performance_Task.xlsx',sheet_name = 'Special Programs')"
   ]
  },
  {
   "cell_type": "code",
   "execution_count": 11,
   "id": "5d3b2b8d",
   "metadata": {},
   "outputs": [
    {
     "data": {
      "text/html": [
       "<div>\n",
       "<style scoped>\n",
       "    .dataframe tbody tr th:only-of-type {\n",
       "        vertical-align: middle;\n",
       "    }\n",
       "\n",
       "    .dataframe tbody tr th {\n",
       "        vertical-align: top;\n",
       "    }\n",
       "\n",
       "    .dataframe thead th {\n",
       "        text-align: right;\n",
       "    }\n",
       "</style>\n",
       "<table border=\"1\" class=\"dataframe\">\n",
       "  <thead>\n",
       "    <tr style=\"text-align: right;\">\n",
       "      <th></th>\n",
       "      <th>student_id</th>\n",
       "      <th>program_name</th>\n",
       "    </tr>\n",
       "  </thead>\n",
       "  <tbody>\n",
       "    <tr>\n",
       "      <th>0</th>\n",
       "      <td>13898</td>\n",
       "      <td>SPED</td>\n",
       "    </tr>\n",
       "    <tr>\n",
       "      <th>1</th>\n",
       "      <td>27795</td>\n",
       "      <td>SPED</td>\n",
       "    </tr>\n",
       "    <tr>\n",
       "      <th>2</th>\n",
       "      <td>22938</td>\n",
       "      <td>.</td>\n",
       "    </tr>\n",
       "    <tr>\n",
       "      <th>3</th>\n",
       "      <td>22431</td>\n",
       "      <td>.</td>\n",
       "    </tr>\n",
       "    <tr>\n",
       "      <th>4</th>\n",
       "      <td>18048</td>\n",
       "      <td>.</td>\n",
       "    </tr>\n",
       "  </tbody>\n",
       "</table>\n",
       "</div>"
      ],
      "text/plain": [
       "   student_id program_name\n",
       "0       13898         SPED\n",
       "1       27795         SPED\n",
       "2       22938            .\n",
       "3       22431            .\n",
       "4       18048            ."
      ]
     },
     "execution_count": 11,
     "metadata": {},
     "output_type": "execute_result"
    }
   ],
   "source": [
    "Spec_Programs.head()"
   ]
  },
  {
   "cell_type": "code",
   "execution_count": 12,
   "id": "c7979fb3",
   "metadata": {},
   "outputs": [
    {
     "data": {
      "text/plain": [
       "(2787, 2)"
      ]
     },
     "execution_count": 12,
     "metadata": {},
     "output_type": "execute_result"
    }
   ],
   "source": [
    "Spec_Programs.shape"
   ]
  },
  {
   "cell_type": "code",
   "execution_count": 13,
   "id": "49981d5f",
   "metadata": {},
   "outputs": [],
   "source": [
    "data = pd.merge(data,Spec_Programs, on = 'student_id')"
   ]
  },
  {
   "cell_type": "code",
   "execution_count": 14,
   "id": "1ab67b06",
   "metadata": {},
   "outputs": [
    {
     "data": {
      "text/html": [
       "<div>\n",
       "<style scoped>\n",
       "    .dataframe tbody tr th:only-of-type {\n",
       "        vertical-align: middle;\n",
       "    }\n",
       "\n",
       "    .dataframe tbody tr th {\n",
       "        vertical-align: top;\n",
       "    }\n",
       "\n",
       "    .dataframe thead th {\n",
       "        text-align: right;\n",
       "    }\n",
       "</style>\n",
       "<table border=\"1\" class=\"dataframe\">\n",
       "  <thead>\n",
       "    <tr style=\"text-align: right;\">\n",
       "      <th></th>\n",
       "      <th>student_id</th>\n",
       "      <th>school_name</th>\n",
       "      <th>grade_level_2019</th>\n",
       "      <th>year</th>\n",
       "      <th>map_term</th>\n",
       "      <th>subject</th>\n",
       "      <th>rit_score</th>\n",
       "      <th>percentile</th>\n",
       "      <th>quartile</th>\n",
       "      <th>typical_fall_to_spring_growth</th>\n",
       "      <th>program_name</th>\n",
       "    </tr>\n",
       "  </thead>\n",
       "  <tbody>\n",
       "    <tr>\n",
       "      <th>0</th>\n",
       "      <td>13898</td>\n",
       "      <td>School G</td>\n",
       "      <td>1</td>\n",
       "      <td>2019</td>\n",
       "      <td>Fall</td>\n",
       "      <td>Reading</td>\n",
       "      <td>161</td>\n",
       "      <td>59</td>\n",
       "      <td>3</td>\n",
       "      <td>18</td>\n",
       "      <td>SPED</td>\n",
       "    </tr>\n",
       "    <tr>\n",
       "      <th>1</th>\n",
       "      <td>13898</td>\n",
       "      <td>School G</td>\n",
       "      <td>1</td>\n",
       "      <td>2019</td>\n",
       "      <td>Fall</td>\n",
       "      <td>Math</td>\n",
       "      <td>166</td>\n",
       "      <td>69</td>\n",
       "      <td>3</td>\n",
       "      <td>20</td>\n",
       "      <td>SPED</td>\n",
       "    </tr>\n",
       "    <tr>\n",
       "      <th>2</th>\n",
       "      <td>13898</td>\n",
       "      <td>School G</td>\n",
       "      <td>1</td>\n",
       "      <td>2019</td>\n",
       "      <td>Spring</td>\n",
       "      <td>Reading</td>\n",
       "      <td>175</td>\n",
       "      <td>43</td>\n",
       "      <td>2</td>\n",
       "      <td>.</td>\n",
       "      <td>SPED</td>\n",
       "    </tr>\n",
       "    <tr>\n",
       "      <th>3</th>\n",
       "      <td>13898</td>\n",
       "      <td>School G</td>\n",
       "      <td>1</td>\n",
       "      <td>2019</td>\n",
       "      <td>Spring</td>\n",
       "      <td>Math</td>\n",
       "      <td>186</td>\n",
       "      <td>65</td>\n",
       "      <td>3</td>\n",
       "      <td>.</td>\n",
       "      <td>SPED</td>\n",
       "    </tr>\n",
       "    <tr>\n",
       "      <th>4</th>\n",
       "      <td>27795</td>\n",
       "      <td>School G</td>\n",
       "      <td>1</td>\n",
       "      <td>2019</td>\n",
       "      <td>Fall</td>\n",
       "      <td>Reading</td>\n",
       "      <td>158</td>\n",
       "      <td>50</td>\n",
       "      <td>3</td>\n",
       "      <td>19</td>\n",
       "      <td>SPED</td>\n",
       "    </tr>\n",
       "  </tbody>\n",
       "</table>\n",
       "</div>"
      ],
      "text/plain": [
       "   student_id school_name  grade_level_2019  year map_term  subject rit_score  \\\n",
       "0       13898    School G                 1  2019     Fall  Reading       161   \n",
       "1       13898    School G                 1  2019     Fall     Math       166   \n",
       "2       13898    School G                 1  2019   Spring  Reading       175   \n",
       "3       13898    School G                 1  2019   Spring     Math       186   \n",
       "4       27795    School G                 1  2019     Fall  Reading       158   \n",
       "\n",
       "  percentile quartile typical_fall_to_spring_growth program_name  \n",
       "0         59        3                            18         SPED  \n",
       "1         69        3                            20         SPED  \n",
       "2         43        2                             .         SPED  \n",
       "3         65        3                             .         SPED  \n",
       "4         50        3                            19         SPED  "
      ]
     },
     "execution_count": 14,
     "metadata": {},
     "output_type": "execute_result"
    }
   ],
   "source": [
    "data.head()"
   ]
  },
  {
   "cell_type": "code",
   "execution_count": 15,
   "id": "dde288c9",
   "metadata": {},
   "outputs": [
    {
     "data": {
      "text/html": [
       "<div>\n",
       "<style scoped>\n",
       "    .dataframe tbody tr th:only-of-type {\n",
       "        vertical-align: middle;\n",
       "    }\n",
       "\n",
       "    .dataframe tbody tr th {\n",
       "        vertical-align: top;\n",
       "    }\n",
       "\n",
       "    .dataframe thead th {\n",
       "        text-align: right;\n",
       "    }\n",
       "</style>\n",
       "<table border=\"1\" class=\"dataframe\">\n",
       "  <thead>\n",
       "    <tr style=\"text-align: right;\">\n",
       "      <th></th>\n",
       "      <th>student_id</th>\n",
       "      <th>school_name</th>\n",
       "      <th>grade_level_2019</th>\n",
       "      <th>year</th>\n",
       "      <th>map_term</th>\n",
       "      <th>subject</th>\n",
       "      <th>rit_score</th>\n",
       "      <th>percentile</th>\n",
       "      <th>quartile</th>\n",
       "      <th>typical_fall_to_spring_growth</th>\n",
       "      <th>program_name</th>\n",
       "    </tr>\n",
       "  </thead>\n",
       "  <tbody>\n",
       "    <tr>\n",
       "      <th>11117</th>\n",
       "      <td>24197</td>\n",
       "      <td>School D</td>\n",
       "      <td>8</td>\n",
       "      <td>2019</td>\n",
       "      <td>Spring</td>\n",
       "      <td>Math</td>\n",
       "      <td>226</td>\n",
       "      <td>40</td>\n",
       "      <td>2</td>\n",
       "      <td>.</td>\n",
       "      <td>.</td>\n",
       "    </tr>\n",
       "    <tr>\n",
       "      <th>11118</th>\n",
       "      <td>27656</td>\n",
       "      <td>School D</td>\n",
       "      <td>8</td>\n",
       "      <td>2019</td>\n",
       "      <td>Fall</td>\n",
       "      <td>Math</td>\n",
       "      <td>199</td>\n",
       "      <td>5</td>\n",
       "      <td>1</td>\n",
       "      <td>6</td>\n",
       "      <td>.</td>\n",
       "    </tr>\n",
       "    <tr>\n",
       "      <th>11119</th>\n",
       "      <td>27656</td>\n",
       "      <td>School D</td>\n",
       "      <td>8</td>\n",
       "      <td>2019</td>\n",
       "      <td>Spring</td>\n",
       "      <td>Math</td>\n",
       "      <td>.</td>\n",
       "      <td>.</td>\n",
       "      <td>.</td>\n",
       "      <td>.</td>\n",
       "      <td>.</td>\n",
       "    </tr>\n",
       "    <tr>\n",
       "      <th>11120</th>\n",
       "      <td>29777</td>\n",
       "      <td>School E</td>\n",
       "      <td>0</td>\n",
       "      <td>2019</td>\n",
       "      <td>Fall</td>\n",
       "      <td>Math</td>\n",
       "      <td>133</td>\n",
       "      <td>32</td>\n",
       "      <td>2</td>\n",
       "      <td>21</td>\n",
       "      <td>.</td>\n",
       "    </tr>\n",
       "    <tr>\n",
       "      <th>11121</th>\n",
       "      <td>29777</td>\n",
       "      <td>School E</td>\n",
       "      <td>0</td>\n",
       "      <td>2019</td>\n",
       "      <td>Spring</td>\n",
       "      <td>Math</td>\n",
       "      <td>.</td>\n",
       "      <td>.</td>\n",
       "      <td>.</td>\n",
       "      <td>.</td>\n",
       "      <td>.</td>\n",
       "    </tr>\n",
       "  </tbody>\n",
       "</table>\n",
       "</div>"
      ],
      "text/plain": [
       "       student_id school_name  grade_level_2019  year map_term subject  \\\n",
       "11117       24197    School D                 8  2019   Spring    Math   \n",
       "11118       27656    School D                 8  2019     Fall    Math   \n",
       "11119       27656    School D                 8  2019   Spring    Math   \n",
       "11120       29777    School E                 0  2019     Fall    Math   \n",
       "11121       29777    School E                 0  2019   Spring    Math   \n",
       "\n",
       "      rit_score percentile quartile typical_fall_to_spring_growth program_name  \n",
       "11117       226         40        2                             .            .  \n",
       "11118       199          5        1                             6            .  \n",
       "11119         .          .        .                             .            .  \n",
       "11120       133         32        2                            21            .  \n",
       "11121         .          .        .                             .            .  "
      ]
     },
     "execution_count": 15,
     "metadata": {},
     "output_type": "execute_result"
    }
   ],
   "source": [
    "data.tail()"
   ]
  },
  {
   "cell_type": "code",
   "execution_count": 16,
   "id": "54489452",
   "metadata": {},
   "outputs": [
    {
     "data": {
      "text/plain": [
       "(11122, 11)"
      ]
     },
     "execution_count": 16,
     "metadata": {},
     "output_type": "execute_result"
    }
   ],
   "source": [
    "data.shape"
   ]
  },
  {
   "cell_type": "markdown",
   "id": "11bba7d1",
   "metadata": {},
   "source": [
    "All the features are needed to perform exploratory data analysis except student_id. \n",
    "student_id was needed to merge the tables together but it will not give us any valuable information.  This feature is a unique student identifier and would be valuable if individual teachers were given this information to use to identify which topics they need to reteach or spend more time on in the future.  We will keep ths feature for now. "
   ]
  },
  {
   "cell_type": "code",
   "execution_count": 17,
   "id": "ac46b552",
   "metadata": {},
   "outputs": [
    {
     "name": "stdout",
     "output_type": "stream",
     "text": [
      "<class 'pandas.core.frame.DataFrame'>\n",
      "Int64Index: 11122 entries, 0 to 11121\n",
      "Data columns (total 11 columns):\n",
      " #   Column                         Non-Null Count  Dtype \n",
      "---  ------                         --------------  ----- \n",
      " 0   student_id                     11122 non-null  int64 \n",
      " 1   school_name                    11122 non-null  object\n",
      " 2   grade_level_2019               11122 non-null  int64 \n",
      " 3   year                           11122 non-null  int64 \n",
      " 4   map_term                       11122 non-null  object\n",
      " 5   subject                        11122 non-null  object\n",
      " 6   rit_score                      11122 non-null  object\n",
      " 7   percentile                     11122 non-null  object\n",
      " 8   quartile                       11122 non-null  object\n",
      " 9   typical_fall_to_spring_growth  11122 non-null  object\n",
      " 10  program_name                   11122 non-null  object\n",
      "dtypes: int64(3), object(8)\n",
      "memory usage: 1.0+ MB\n"
     ]
    }
   ],
   "source": [
    "data.info()"
   ]
  },
  {
   "cell_type": "code",
   "execution_count": 18,
   "id": "fa179b50",
   "metadata": {},
   "outputs": [
    {
     "data": {
      "text/html": [
       "<div>\n",
       "<style scoped>\n",
       "    .dataframe tbody tr th:only-of-type {\n",
       "        vertical-align: middle;\n",
       "    }\n",
       "\n",
       "    .dataframe tbody tr th {\n",
       "        vertical-align: top;\n",
       "    }\n",
       "\n",
       "    .dataframe thead th {\n",
       "        text-align: right;\n",
       "    }\n",
       "</style>\n",
       "<table border=\"1\" class=\"dataframe\">\n",
       "  <thead>\n",
       "    <tr style=\"text-align: right;\">\n",
       "      <th></th>\n",
       "      <th>student_id</th>\n",
       "      <th>grade_level_2019</th>\n",
       "      <th>year</th>\n",
       "    </tr>\n",
       "  </thead>\n",
       "  <tbody>\n",
       "    <tr>\n",
       "      <th>count</th>\n",
       "      <td>11122.000000</td>\n",
       "      <td>11122.000000</td>\n",
       "      <td>11122.0</td>\n",
       "    </tr>\n",
       "    <tr>\n",
       "      <th>mean</th>\n",
       "      <td>19926.775220</td>\n",
       "      <td>4.227837</td>\n",
       "      <td>2019.0</td>\n",
       "    </tr>\n",
       "    <tr>\n",
       "      <th>std</th>\n",
       "      <td>5732.455867</td>\n",
       "      <td>2.714756</td>\n",
       "      <td>0.0</td>\n",
       "    </tr>\n",
       "    <tr>\n",
       "      <th>min</th>\n",
       "      <td>10000.000000</td>\n",
       "      <td>0.000000</td>\n",
       "      <td>2019.0</td>\n",
       "    </tr>\n",
       "    <tr>\n",
       "      <th>25%</th>\n",
       "      <td>14981.000000</td>\n",
       "      <td>2.000000</td>\n",
       "      <td>2019.0</td>\n",
       "    </tr>\n",
       "    <tr>\n",
       "      <th>50%</th>\n",
       "      <td>19856.000000</td>\n",
       "      <td>5.000000</td>\n",
       "      <td>2019.0</td>\n",
       "    </tr>\n",
       "    <tr>\n",
       "      <th>75%</th>\n",
       "      <td>24873.000000</td>\n",
       "      <td>7.000000</td>\n",
       "      <td>2019.0</td>\n",
       "    </tr>\n",
       "    <tr>\n",
       "      <th>max</th>\n",
       "      <td>29996.000000</td>\n",
       "      <td>8.000000</td>\n",
       "      <td>2019.0</td>\n",
       "    </tr>\n",
       "  </tbody>\n",
       "</table>\n",
       "</div>"
      ],
      "text/plain": [
       "         student_id  grade_level_2019     year\n",
       "count  11122.000000      11122.000000  11122.0\n",
       "mean   19926.775220          4.227837   2019.0\n",
       "std     5732.455867          2.714756      0.0\n",
       "min    10000.000000          0.000000   2019.0\n",
       "25%    14981.000000          2.000000   2019.0\n",
       "50%    19856.000000          5.000000   2019.0\n",
       "75%    24873.000000          7.000000   2019.0\n",
       "max    29996.000000          8.000000   2019.0"
      ]
     },
     "execution_count": 18,
     "metadata": {},
     "output_type": "execute_result"
    }
   ],
   "source": [
    "data.describe()"
   ]
  },
  {
   "cell_type": "code",
   "execution_count": 19,
   "id": "39993c4b",
   "metadata": {},
   "outputs": [
    {
     "data": {
      "text/plain": [
       "array(['School G', 'School E', 'School F', 'School B', 'School C',\n",
       "       'School D', 'School A'], dtype=object)"
      ]
     },
     "execution_count": 19,
     "metadata": {},
     "output_type": "execute_result"
    }
   ],
   "source": [
    "data['school_name'].unique()"
   ]
  },
  {
   "cell_type": "code",
   "execution_count": 20,
   "id": "ee72179a",
   "metadata": {},
   "outputs": [
    {
     "data": {
      "text/plain": [
       "School E    2154\n",
       "School F    1724\n",
       "School D    1586\n",
       "School A    1482\n",
       "School C    1440\n",
       "School B    1422\n",
       "School G    1314\n",
       "Name: school_name, dtype: int64"
      ]
     },
     "execution_count": 20,
     "metadata": {},
     "output_type": "execute_result"
    }
   ],
   "source": [
    "data['school_name'].value_counts()"
   ]
  },
  {
   "cell_type": "markdown",
   "id": "e5ac53fb",
   "metadata": {},
   "source": [
    "There are 7 schools in total.  Each letter represents a school."
   ]
  },
  {
   "cell_type": "code",
   "execution_count": 21,
   "id": "cf02443e",
   "metadata": {},
   "outputs": [
    {
     "data": {
      "text/plain": [
       "array([1, 2, 3, 4, 5, 6, 7, 8, 0])"
      ]
     },
     "execution_count": 21,
     "metadata": {},
     "output_type": "execute_result"
    }
   ],
   "source": [
    "data['grade_level_2019'].unique()"
   ]
  },
  {
   "cell_type": "code",
   "execution_count": 22,
   "id": "cfda0afd",
   "metadata": {},
   "outputs": [
    {
     "data": {
      "text/plain": [
       "6    1574\n",
       "7    1488\n",
       "8    1476\n",
       "5    1392\n",
       "2    1280\n",
       "1    1278\n",
       "0    1270\n",
       "3     900\n",
       "4     464\n",
       "Name: grade_level_2019, dtype: int64"
      ]
     },
     "execution_count": 22,
     "metadata": {},
     "output_type": "execute_result"
    }
   ],
   "source": [
    "data['grade_level_2019'].value_counts()"
   ]
  },
  {
   "cell_type": "markdown",
   "id": "5bf573ee",
   "metadata": {},
   "source": [
    "This data is for students from Pre-K to 8th grade.  Pre-K to 4th is primary school.  Middle school is 5th to 8th.  \n",
    "\n",
    "The number of student scores for the MAP test decreased tremedously from 2nd grade to 3rd and then to 4th.  The number of scores increased by 928 from 4th to 5th grade. \n",
    "\n",
    "Lets group by school and grade if there was a school that did not submit scores for a particuar school "
   ]
  },
  {
   "cell_type": "code",
   "execution_count": 23,
   "id": "bf83fc21",
   "metadata": {},
   "outputs": [],
   "source": [
    "Middle_School = data[data['grade_level_2019'] > 4] "
   ]
  },
  {
   "cell_type": "code",
   "execution_count": 24,
   "id": "e8181919",
   "metadata": {},
   "outputs": [
    {
     "data": {
      "text/plain": [
       "array(['School B', 'School C', 'School D', 'School A'], dtype=object)"
      ]
     },
     "execution_count": 24,
     "metadata": {},
     "output_type": "execute_result"
    }
   ],
   "source": [
    "Middle_School['school_name'].unique()"
   ]
  },
  {
   "cell_type": "code",
   "execution_count": 25,
   "id": "eb04ca9b",
   "metadata": {},
   "outputs": [],
   "source": [
    "Primary_School = data[data['grade_level_2019'] < 5]"
   ]
  },
  {
   "cell_type": "code",
   "execution_count": 26,
   "id": "874903e7",
   "metadata": {},
   "outputs": [
    {
     "data": {
      "text/html": [
       "<div>\n",
       "<style scoped>\n",
       "    .dataframe tbody tr th:only-of-type {\n",
       "        vertical-align: middle;\n",
       "    }\n",
       "\n",
       "    .dataframe tbody tr th {\n",
       "        vertical-align: top;\n",
       "    }\n",
       "\n",
       "    .dataframe thead th {\n",
       "        text-align: right;\n",
       "    }\n",
       "</style>\n",
       "<table border=\"1\" class=\"dataframe\">\n",
       "  <thead>\n",
       "    <tr style=\"text-align: right;\">\n",
       "      <th>school_name</th>\n",
       "      <th>School E</th>\n",
       "      <th>School F</th>\n",
       "      <th>School G</th>\n",
       "    </tr>\n",
       "    <tr>\n",
       "      <th>grade_level_2019</th>\n",
       "      <th></th>\n",
       "      <th></th>\n",
       "      <th></th>\n",
       "    </tr>\n",
       "  </thead>\n",
       "  <tbody>\n",
       "    <tr>\n",
       "      <th>0</th>\n",
       "      <td>402.0</td>\n",
       "      <td>428.0</td>\n",
       "      <td>440.0</td>\n",
       "    </tr>\n",
       "    <tr>\n",
       "      <th>1</th>\n",
       "      <td>392.0</td>\n",
       "      <td>436.0</td>\n",
       "      <td>450.0</td>\n",
       "    </tr>\n",
       "    <tr>\n",
       "      <th>2</th>\n",
       "      <td>432.0</td>\n",
       "      <td>424.0</td>\n",
       "      <td>424.0</td>\n",
       "    </tr>\n",
       "    <tr>\n",
       "      <th>3</th>\n",
       "      <td>464.0</td>\n",
       "      <td>436.0</td>\n",
       "      <td>NaN</td>\n",
       "    </tr>\n",
       "    <tr>\n",
       "      <th>4</th>\n",
       "      <td>464.0</td>\n",
       "      <td>NaN</td>\n",
       "      <td>NaN</td>\n",
       "    </tr>\n",
       "  </tbody>\n",
       "</table>\n",
       "</div>"
      ],
      "text/plain": [
       "school_name       School E  School F  School G\n",
       "grade_level_2019                              \n",
       "0                    402.0     428.0     440.0\n",
       "1                    392.0     436.0     450.0\n",
       "2                    432.0     424.0     424.0\n",
       "3                    464.0     436.0       NaN\n",
       "4                    464.0       NaN       NaN"
      ]
     },
     "execution_count": 26,
     "metadata": {},
     "output_type": "execute_result"
    }
   ],
   "source": [
    "pd.pivot_table(Primary_School, index = ['grade_level_2019'], columns = ['school_name'], values = 'student_id', aggfunc = 'count')\n",
    "\n"
   ]
  },
  {
   "cell_type": "markdown",
   "id": "9a8ac50b",
   "metadata": {},
   "source": [
    "The above table shows that School F did not submit MAP scores for 4th grade and School G did not submit MAP scores for 3rd and 4th grade.  This is interesting but now we know why the total amount is drastically lower between 2nd and 3rd, 3rd and 4th, and 4th and 5th.  We could contact the school to see why this information was not submitted but for this data analysis we will continue with what was given to us. "
   ]
  },
  {
   "cell_type": "code",
   "execution_count": 27,
   "id": "c5ff0329",
   "metadata": {},
   "outputs": [
    {
     "data": {
      "text/plain": [
       "array([2019])"
      ]
     },
     "execution_count": 27,
     "metadata": {},
     "output_type": "execute_result"
    }
   ],
   "source": [
    "data['year'].unique()"
   ]
  },
  {
   "cell_type": "code",
   "execution_count": 28,
   "id": "cdaa2d7c",
   "metadata": {},
   "outputs": [
    {
     "data": {
      "text/plain": [
       "2019    11122\n",
       "Name: year, dtype: int64"
      ]
     },
     "execution_count": 28,
     "metadata": {},
     "output_type": "execute_result"
    }
   ],
   "source": [
    "data['year'].value_counts()"
   ]
  },
  {
   "cell_type": "markdown",
   "id": "ca7b8b87",
   "metadata": {},
   "source": [
    "All rows have 2019 as the year. This is perfect! "
   ]
  },
  {
   "cell_type": "code",
   "execution_count": 29,
   "id": "d4bde8b0",
   "metadata": {},
   "outputs": [
    {
     "data": {
      "text/plain": [
       "array(['Fall', 'Spring'], dtype=object)"
      ]
     },
     "execution_count": 29,
     "metadata": {},
     "output_type": "execute_result"
    }
   ],
   "source": [
    "data['map_term'].unique()"
   ]
  },
  {
   "cell_type": "code",
   "execution_count": 30,
   "id": "7cb689a2",
   "metadata": {},
   "outputs": [
    {
     "data": {
      "text/plain": [
       "Fall      5561\n",
       "Spring    5561\n",
       "Name: map_term, dtype: int64"
      ]
     },
     "execution_count": 30,
     "metadata": {},
     "output_type": "execute_result"
    }
   ],
   "source": [
    "data['map_term'].value_counts()"
   ]
  },
  {
   "cell_type": "code",
   "execution_count": 31,
   "id": "84a9a618",
   "metadata": {},
   "outputs": [
    {
     "data": {
      "text/plain": [
       "array(['Reading', 'Math'], dtype=object)"
      ]
     },
     "execution_count": 31,
     "metadata": {},
     "output_type": "execute_result"
    }
   ],
   "source": [
    "data['subject'].unique()"
   ]
  },
  {
   "cell_type": "code",
   "execution_count": 32,
   "id": "944e36cc",
   "metadata": {},
   "outputs": [
    {
     "data": {
      "text/plain": [
       "Math       5562\n",
       "Reading    5560\n",
       "Name: subject, dtype: int64"
      ]
     },
     "execution_count": 32,
     "metadata": {},
     "output_type": "execute_result"
    }
   ],
   "source": [
    "data['subject'].value_counts()"
   ]
  },
  {
   "cell_type": "code",
   "execution_count": 33,
   "id": "24176f1f",
   "metadata": {},
   "outputs": [
    {
     "data": {
      "text/plain": [
       "11220    8\n",
       "20482    4\n",
       "19028    4\n",
       "19036    4\n",
       "25185    4\n",
       "        ..\n",
       "16192    2\n",
       "24197    2\n",
       "19113    2\n",
       "11654    2\n",
       "27152    2\n",
       "Name: student_id, Length: 2787, dtype: int64"
      ]
     },
     "execution_count": 33,
     "metadata": {},
     "output_type": "execute_result"
    }
   ],
   "source": [
    "data['student_id'].value_counts()"
   ]
  },
  {
   "cell_type": "code",
   "execution_count": 34,
   "id": "d269a619",
   "metadata": {},
   "outputs": [
    {
     "data": {
      "text/html": [
       "<div>\n",
       "<style scoped>\n",
       "    .dataframe tbody tr th:only-of-type {\n",
       "        vertical-align: middle;\n",
       "    }\n",
       "\n",
       "    .dataframe tbody tr th {\n",
       "        vertical-align: top;\n",
       "    }\n",
       "\n",
       "    .dataframe thead th {\n",
       "        text-align: right;\n",
       "    }\n",
       "</style>\n",
       "<table border=\"1\" class=\"dataframe\">\n",
       "  <thead>\n",
       "    <tr style=\"text-align: right;\">\n",
       "      <th></th>\n",
       "      <th>student_id</th>\n",
       "      <th>school_name</th>\n",
       "      <th>grade_level_2019</th>\n",
       "      <th>year</th>\n",
       "      <th>map_term</th>\n",
       "      <th>subject</th>\n",
       "      <th>rit_score</th>\n",
       "      <th>percentile</th>\n",
       "      <th>quartile</th>\n",
       "      <th>typical_fall_to_spring_growth</th>\n",
       "      <th>program_name</th>\n",
       "    </tr>\n",
       "  </thead>\n",
       "  <tbody>\n",
       "    <tr>\n",
       "      <th>6830</th>\n",
       "      <td>11220</td>\n",
       "      <td>School D</td>\n",
       "      <td>6</td>\n",
       "      <td>2019</td>\n",
       "      <td>Fall</td>\n",
       "      <td>Reading</td>\n",
       "      <td>.</td>\n",
       "      <td>.</td>\n",
       "      <td>.</td>\n",
       "      <td>.</td>\n",
       "      <td>.</td>\n",
       "    </tr>\n",
       "    <tr>\n",
       "      <th>6831</th>\n",
       "      <td>11220</td>\n",
       "      <td>School D</td>\n",
       "      <td>6</td>\n",
       "      <td>2019</td>\n",
       "      <td>Fall</td>\n",
       "      <td>Math</td>\n",
       "      <td>197</td>\n",
       "      <td>16</td>\n",
       "      <td>1</td>\n",
       "      <td>10</td>\n",
       "      <td>.</td>\n",
       "    </tr>\n",
       "    <tr>\n",
       "      <th>6832</th>\n",
       "      <td>11220</td>\n",
       "      <td>School D</td>\n",
       "      <td>6</td>\n",
       "      <td>2019</td>\n",
       "      <td>Spring</td>\n",
       "      <td>Reading</td>\n",
       "      <td>215</td>\n",
       "      <td>48</td>\n",
       "      <td>2</td>\n",
       "      <td>.</td>\n",
       "      <td>.</td>\n",
       "    </tr>\n",
       "    <tr>\n",
       "      <th>6833</th>\n",
       "      <td>11220</td>\n",
       "      <td>School D</td>\n",
       "      <td>6</td>\n",
       "      <td>2019</td>\n",
       "      <td>Spring</td>\n",
       "      <td>Math</td>\n",
       "      <td>202</td>\n",
       "      <td>8</td>\n",
       "      <td>1</td>\n",
       "      <td>.</td>\n",
       "      <td>.</td>\n",
       "    </tr>\n",
       "    <tr>\n",
       "      <th>6834</th>\n",
       "      <td>11220</td>\n",
       "      <td>School D</td>\n",
       "      <td>5</td>\n",
       "      <td>2019</td>\n",
       "      <td>Fall</td>\n",
       "      <td>Reading</td>\n",
       "      <td>.</td>\n",
       "      <td>.</td>\n",
       "      <td>.</td>\n",
       "      <td>.</td>\n",
       "      <td>.</td>\n",
       "    </tr>\n",
       "    <tr>\n",
       "      <th>6835</th>\n",
       "      <td>11220</td>\n",
       "      <td>School D</td>\n",
       "      <td>5</td>\n",
       "      <td>2019</td>\n",
       "      <td>Fall</td>\n",
       "      <td>Math</td>\n",
       "      <td>197</td>\n",
       "      <td>16</td>\n",
       "      <td>1</td>\n",
       "      <td>10</td>\n",
       "      <td>.</td>\n",
       "    </tr>\n",
       "    <tr>\n",
       "      <th>6836</th>\n",
       "      <td>11220</td>\n",
       "      <td>School D</td>\n",
       "      <td>5</td>\n",
       "      <td>2019</td>\n",
       "      <td>Spring</td>\n",
       "      <td>Reading</td>\n",
       "      <td>215</td>\n",
       "      <td>48</td>\n",
       "      <td>2</td>\n",
       "      <td>.</td>\n",
       "      <td>.</td>\n",
       "    </tr>\n",
       "    <tr>\n",
       "      <th>6837</th>\n",
       "      <td>11220</td>\n",
       "      <td>School D</td>\n",
       "      <td>5</td>\n",
       "      <td>2019</td>\n",
       "      <td>Spring</td>\n",
       "      <td>Math</td>\n",
       "      <td>202</td>\n",
       "      <td>8</td>\n",
       "      <td>1</td>\n",
       "      <td>.</td>\n",
       "      <td>.</td>\n",
       "    </tr>\n",
       "  </tbody>\n",
       "</table>\n",
       "</div>"
      ],
      "text/plain": [
       "      student_id school_name  grade_level_2019  year map_term  subject  \\\n",
       "6830       11220    School D                 6  2019     Fall  Reading   \n",
       "6831       11220    School D                 6  2019     Fall     Math   \n",
       "6832       11220    School D                 6  2019   Spring  Reading   \n",
       "6833       11220    School D                 6  2019   Spring     Math   \n",
       "6834       11220    School D                 5  2019     Fall  Reading   \n",
       "6835       11220    School D                 5  2019     Fall     Math   \n",
       "6836       11220    School D                 5  2019   Spring  Reading   \n",
       "6837       11220    School D                 5  2019   Spring     Math   \n",
       "\n",
       "     rit_score percentile quartile typical_fall_to_spring_growth program_name  \n",
       "6830         .          .        .                             .            .  \n",
       "6831       197         16        1                            10            .  \n",
       "6832       215         48        2                             .            .  \n",
       "6833       202          8        1                             .            .  \n",
       "6834         .          .        .                             .            .  \n",
       "6835       197         16        1                            10            .  \n",
       "6836       215         48        2                             .            .  \n",
       "6837       202          8        1                             .            .  "
      ]
     },
     "execution_count": 34,
     "metadata": {},
     "output_type": "execute_result"
    }
   ],
   "source": [
    "data[data['student_id'] == 11220]"
   ]
  },
  {
   "cell_type": "markdown",
   "id": "8cacd392",
   "metadata": {},
   "source": [
    "Student 11220 is a duplicate.  This student has a grade level of 5th and 6th.  Since we do not have any prior data to determine the actual grade for the this student we will remove this student from the data set instead of guessing which grade level the student is in. Guessing the grade could produce inaccurate data analysis.  "
   ]
  },
  {
   "cell_type": "code",
   "execution_count": 35,
   "id": "c117953b",
   "metadata": {},
   "outputs": [],
   "source": [
    "#Drop duplicate\n",
    "\n",
    "data.drop(data[data['student_id'] == 11220].index, inplace = True)"
   ]
  },
  {
   "cell_type": "code",
   "execution_count": 36,
   "id": "3254ffe8",
   "metadata": {},
   "outputs": [],
   "source": [
    "Fall_scores = data[data['map_term'] == 'Fall']\n",
    "Spring_scores = data[data['map_term'] == 'Spring']"
   ]
  },
  {
   "cell_type": "code",
   "execution_count": 37,
   "id": "964fcef3",
   "metadata": {},
   "outputs": [
    {
     "data": {
      "text/plain": [
       "(5557, 11)"
      ]
     },
     "execution_count": 37,
     "metadata": {},
     "output_type": "execute_result"
    }
   ],
   "source": [
    "Fall_scores.shape"
   ]
  },
  {
   "cell_type": "code",
   "execution_count": 38,
   "id": "7252cf7e",
   "metadata": {},
   "outputs": [
    {
     "data": {
      "text/plain": [
       "(5557, 11)"
      ]
     },
     "execution_count": 38,
     "metadata": {},
     "output_type": "execute_result"
    }
   ],
   "source": [
    "Spring_scores.shape"
   ]
  },
  {
   "cell_type": "code",
   "execution_count": 39,
   "id": "7f797036",
   "metadata": {},
   "outputs": [
    {
     "data": {
      "text/plain": [
       "array([161, 166, 175, 186, 158, 135, 174, 182, 162, 160, 178, 180, 164,\n",
       "       151, 181, 163, '.', 159, 167, 153, 157, 183, 176, 192, 204, 165,\n",
       "       171, 188, 177, 190, 196, 202, 185, 222, 173, 156, 201, 203, 168,\n",
       "       184, 187, 189, 194, 172, 169, 150, 199, 140, 170, 218, 155, 147,\n",
       "       179, 191, 193, 198, 148, 145, 125, 143, 195, 212, 123, 126, 149,\n",
       "       152, 197, 209, 142, 128, 208, 213, 200, 133, 215, 154, 144, 137,\n",
       "       207, 206, 146, 138, 205, 217, 139, 223, 220, 216, 227, 136, 127,\n",
       "       210, 224, 141, 214, 211, 221, 130, 226, 219, 228, 229, 225, 240,\n",
       "       235, 234, 230, 236, 232, 237, 242, 243, 231, 244, 238, 233, 239,\n",
       "       250, 241, 252, 246, 248, 249, 245, 255, 253, 251, 247, 258, 257,\n",
       "       256, 262, 259, 269, 265, 261, 266, 267, 260, 254, 129, 134, 120,\n",
       "       114, 132, 131, 124, 109, 118, 116, 119, 122, 121, 115, 104, 113,\n",
       "       107, 110, 117], dtype=object)"
      ]
     },
     "execution_count": 39,
     "metadata": {},
     "output_type": "execute_result"
    }
   ],
   "source": [
    "data['rit_score'].unique()"
   ]
  },
  {
   "cell_type": "code",
   "execution_count": 40,
   "id": "875e6118",
   "metadata": {},
   "outputs": [
    {
     "data": {
      "text/plain": [
       ".      997\n",
       "221    180\n",
       "210    163\n",
       "209    162\n",
       "212    159\n",
       "      ... \n",
       "258      1\n",
       "110      1\n",
       "117      1\n",
       "113      1\n",
       "104      1\n",
       "Name: rit_score, Length: 159, dtype: int64"
      ]
     },
     "execution_count": 40,
     "metadata": {},
     "output_type": "execute_result"
    }
   ],
   "source": [
    "data['rit_score'].value_counts()"
   ]
  },
  {
   "cell_type": "markdown",
   "id": "cebbb847",
   "metadata": {},
   "source": [
    "We noticed that there are 997 spaces with no rit_score.  Also, each value is an object instead of a integer.  We need to do two things.\n",
    "\n",
    "1. Replace the '.' with an empty space\n",
    "2. convert the object to an integer"
   ]
  },
  {
   "cell_type": "code",
   "execution_count": 41,
   "id": "7337705c",
   "metadata": {},
   "outputs": [],
   "source": [
    "#We do not need this.  This can be dropped.\n",
    "\n",
    "data = data.replace('.',' ')"
   ]
  },
  {
   "cell_type": "code",
   "execution_count": 42,
   "id": "9405756a",
   "metadata": {},
   "outputs": [
    {
     "data": {
      "text/plain": [
       "       997\n",
       "221    180\n",
       "210    163\n",
       "209    162\n",
       "212    159\n",
       "      ... \n",
       "258      1\n",
       "110      1\n",
       "117      1\n",
       "113      1\n",
       "104      1\n",
       "Name: rit_score, Length: 159, dtype: int64"
      ]
     },
     "execution_count": 42,
     "metadata": {},
     "output_type": "execute_result"
    }
   ],
   "source": [
    "data['rit_score'].value_counts()"
   ]
  },
  {
   "cell_type": "code",
   "execution_count": 43,
   "id": "8b76a051",
   "metadata": {},
   "outputs": [
    {
     "data": {
      "text/html": [
       "<div>\n",
       "<style scoped>\n",
       "    .dataframe tbody tr th:only-of-type {\n",
       "        vertical-align: middle;\n",
       "    }\n",
       "\n",
       "    .dataframe tbody tr th {\n",
       "        vertical-align: top;\n",
       "    }\n",
       "\n",
       "    .dataframe thead th {\n",
       "        text-align: right;\n",
       "    }\n",
       "</style>\n",
       "<table border=\"1\" class=\"dataframe\">\n",
       "  <thead>\n",
       "    <tr style=\"text-align: right;\">\n",
       "      <th></th>\n",
       "      <th>student_id</th>\n",
       "      <th>school_name</th>\n",
       "      <th>grade_level_2019</th>\n",
       "      <th>year</th>\n",
       "      <th>map_term</th>\n",
       "      <th>subject</th>\n",
       "      <th>rit_score</th>\n",
       "      <th>percentile</th>\n",
       "      <th>quartile</th>\n",
       "      <th>typical_fall_to_spring_growth</th>\n",
       "      <th>program_name</th>\n",
       "    </tr>\n",
       "  </thead>\n",
       "  <tbody>\n",
       "    <tr>\n",
       "      <th>20</th>\n",
       "      <td>20392</td>\n",
       "      <td>School G</td>\n",
       "      <td>1</td>\n",
       "      <td>2019</td>\n",
       "      <td>Fall</td>\n",
       "      <td>Reading</td>\n",
       "      <td></td>\n",
       "      <td></td>\n",
       "      <td></td>\n",
       "      <td></td>\n",
       "      <td>SPED</td>\n",
       "    </tr>\n",
       "    <tr>\n",
       "      <th>21</th>\n",
       "      <td>20392</td>\n",
       "      <td>School G</td>\n",
       "      <td>1</td>\n",
       "      <td>2019</td>\n",
       "      <td>Fall</td>\n",
       "      <td>Math</td>\n",
       "      <td></td>\n",
       "      <td></td>\n",
       "      <td></td>\n",
       "      <td></td>\n",
       "      <td>SPED</td>\n",
       "    </tr>\n",
       "    <tr>\n",
       "      <th>63</th>\n",
       "      <td>26626</td>\n",
       "      <td>School F</td>\n",
       "      <td>1</td>\n",
       "      <td>2019</td>\n",
       "      <td>Spring</td>\n",
       "      <td>Math</td>\n",
       "      <td></td>\n",
       "      <td></td>\n",
       "      <td></td>\n",
       "      <td></td>\n",
       "      <td>SPED</td>\n",
       "    </tr>\n",
       "    <tr>\n",
       "      <th>144</th>\n",
       "      <td>11466</td>\n",
       "      <td>School G</td>\n",
       "      <td>1</td>\n",
       "      <td>2019</td>\n",
       "      <td>Fall</td>\n",
       "      <td>Reading</td>\n",
       "      <td></td>\n",
       "      <td></td>\n",
       "      <td></td>\n",
       "      <td></td>\n",
       "      <td></td>\n",
       "    </tr>\n",
       "    <tr>\n",
       "      <th>145</th>\n",
       "      <td>11466</td>\n",
       "      <td>School G</td>\n",
       "      <td>1</td>\n",
       "      <td>2019</td>\n",
       "      <td>Fall</td>\n",
       "      <td>Math</td>\n",
       "      <td></td>\n",
       "      <td></td>\n",
       "      <td></td>\n",
       "      <td></td>\n",
       "      <td></td>\n",
       "    </tr>\n",
       "    <tr>\n",
       "      <th>...</th>\n",
       "      <td>...</td>\n",
       "      <td>...</td>\n",
       "      <td>...</td>\n",
       "      <td>...</td>\n",
       "      <td>...</td>\n",
       "      <td>...</td>\n",
       "      <td>...</td>\n",
       "      <td>...</td>\n",
       "      <td>...</td>\n",
       "      <td>...</td>\n",
       "      <td>...</td>\n",
       "    </tr>\n",
       "    <tr>\n",
       "      <th>11113</th>\n",
       "      <td>28744</td>\n",
       "      <td>School D</td>\n",
       "      <td>7</td>\n",
       "      <td>2019</td>\n",
       "      <td>Spring</td>\n",
       "      <td>Math</td>\n",
       "      <td></td>\n",
       "      <td></td>\n",
       "      <td></td>\n",
       "      <td></td>\n",
       "      <td></td>\n",
       "    </tr>\n",
       "    <tr>\n",
       "      <th>11115</th>\n",
       "      <td>12169</td>\n",
       "      <td>School A</td>\n",
       "      <td>7</td>\n",
       "      <td>2019</td>\n",
       "      <td>Spring</td>\n",
       "      <td>Math</td>\n",
       "      <td></td>\n",
       "      <td></td>\n",
       "      <td></td>\n",
       "      <td></td>\n",
       "      <td></td>\n",
       "    </tr>\n",
       "    <tr>\n",
       "      <th>11116</th>\n",
       "      <td>24197</td>\n",
       "      <td>School D</td>\n",
       "      <td>8</td>\n",
       "      <td>2019</td>\n",
       "      <td>Fall</td>\n",
       "      <td>Math</td>\n",
       "      <td></td>\n",
       "      <td></td>\n",
       "      <td></td>\n",
       "      <td></td>\n",
       "      <td></td>\n",
       "    </tr>\n",
       "    <tr>\n",
       "      <th>11119</th>\n",
       "      <td>27656</td>\n",
       "      <td>School D</td>\n",
       "      <td>8</td>\n",
       "      <td>2019</td>\n",
       "      <td>Spring</td>\n",
       "      <td>Math</td>\n",
       "      <td></td>\n",
       "      <td></td>\n",
       "      <td></td>\n",
       "      <td></td>\n",
       "      <td></td>\n",
       "    </tr>\n",
       "    <tr>\n",
       "      <th>11121</th>\n",
       "      <td>29777</td>\n",
       "      <td>School E</td>\n",
       "      <td>0</td>\n",
       "      <td>2019</td>\n",
       "      <td>Spring</td>\n",
       "      <td>Math</td>\n",
       "      <td></td>\n",
       "      <td></td>\n",
       "      <td></td>\n",
       "      <td></td>\n",
       "      <td></td>\n",
       "    </tr>\n",
       "  </tbody>\n",
       "</table>\n",
       "<p>997 rows × 11 columns</p>\n",
       "</div>"
      ],
      "text/plain": [
       "       student_id school_name  grade_level_2019  year map_term  subject  \\\n",
       "20          20392    School G                 1  2019     Fall  Reading   \n",
       "21          20392    School G                 1  2019     Fall     Math   \n",
       "63          26626    School F                 1  2019   Spring     Math   \n",
       "144         11466    School G                 1  2019     Fall  Reading   \n",
       "145         11466    School G                 1  2019     Fall     Math   \n",
       "...           ...         ...               ...   ...      ...      ...   \n",
       "11113       28744    School D                 7  2019   Spring     Math   \n",
       "11115       12169    School A                 7  2019   Spring     Math   \n",
       "11116       24197    School D                 8  2019     Fall     Math   \n",
       "11119       27656    School D                 8  2019   Spring     Math   \n",
       "11121       29777    School E                 0  2019   Spring     Math   \n",
       "\n",
       "      rit_score percentile quartile typical_fall_to_spring_growth program_name  \n",
       "20                                                                        SPED  \n",
       "21                                                                        SPED  \n",
       "63                                                                        SPED  \n",
       "144                                                                             \n",
       "145                                                                             \n",
       "...         ...        ...      ...                           ...          ...  \n",
       "11113                                                                           \n",
       "11115                                                                           \n",
       "11116                                                                           \n",
       "11119                                                                           \n",
       "11121                                                                           \n",
       "\n",
       "[997 rows x 11 columns]"
      ]
     },
     "execution_count": 43,
     "metadata": {},
     "output_type": "execute_result"
    }
   ],
   "source": [
    "data[data['rit_score'] == ' ']"
   ]
  },
  {
   "cell_type": "code",
   "execution_count": 44,
   "id": "0917d707",
   "metadata": {},
   "outputs": [],
   "source": [
    "#Drop each row that does not have a rit_score.  If there is not rit_score then there is not data to be used\n",
    "\n",
    "data.drop(data[data['rit_score'] == ' '].index, inplace = True)"
   ]
  },
  {
   "cell_type": "code",
   "execution_count": 45,
   "id": "a68ff53b",
   "metadata": {},
   "outputs": [
    {
     "data": {
      "text/plain": [
       "(10117, 11)"
      ]
     },
     "execution_count": 45,
     "metadata": {},
     "output_type": "execute_result"
    }
   ],
   "source": [
    "data.shape"
   ]
  },
  {
   "cell_type": "code",
   "execution_count": 46,
   "id": "35e3d165",
   "metadata": {},
   "outputs": [],
   "source": [
    "data['rit_score'] = data['rit_score'].astype(str).astype(int)"
   ]
  },
  {
   "cell_type": "code",
   "execution_count": 47,
   "id": "5a6acbdc",
   "metadata": {},
   "outputs": [
    {
     "data": {
      "text/plain": [
       "dtype('int64')"
      ]
     },
     "execution_count": 47,
     "metadata": {},
     "output_type": "execute_result"
    }
   ],
   "source": [
    "data['rit_score'].dtypes"
   ]
  },
  {
   "cell_type": "code",
   "execution_count": 48,
   "id": "39db0f12",
   "metadata": {},
   "outputs": [
    {
     "data": {
      "text/plain": [
       "array([59, 69, 43, 65, 50, 4, 40, 53, 62, 52, 51, 48, 64, 73, 28, 10, 6,\n",
       "       29, 72, 5, 97, 89, 84, 96, 70, 81, 77, 58, 46, 56, 68, 90, 87, 34,\n",
       "       60, 36, 86, 94, 55, 99, 38, 39, 41, 8, 24, 95, 78, 74, 67, 79, 83,\n",
       "       80, 26, 33, 31, 93, 76, 47, 19, 91, 49, 16, 21, 25, 7, 44, 30, 45,\n",
       "       98, 82, 88, 54, 35, 15, 1, 2, 12, 14, 92, 75, 17, 23, 11, 3, 32,\n",
       "       42, 85, 61, 57, 37, 13, 9, 18, 66, 22, 27, 20, 71, 63],\n",
       "      dtype=object)"
      ]
     },
     "execution_count": 48,
     "metadata": {},
     "output_type": "execute_result"
    }
   ],
   "source": [
    "data['percentile'].unique()"
   ]
  },
  {
   "cell_type": "code",
   "execution_count": 49,
   "id": "d08a2a53",
   "metadata": {},
   "outputs": [
    {
     "data": {
      "text/plain": [
       "56    187\n",
       "1     186\n",
       "35    182\n",
       "40    179\n",
       "64    178\n",
       "     ... \n",
       "11     54\n",
       "75     53\n",
       "34     45\n",
       "36     44\n",
       "63     40\n",
       "Name: percentile, Length: 99, dtype: int64"
      ]
     },
     "execution_count": 49,
     "metadata": {},
     "output_type": "execute_result"
    }
   ],
   "source": [
    "data['percentile'].value_counts()"
   ]
  },
  {
   "cell_type": "code",
   "execution_count": 50,
   "id": "956f4835",
   "metadata": {},
   "outputs": [],
   "source": [
    "data['percentile'] = data['percentile'].astype(str).astype(int)"
   ]
  },
  {
   "cell_type": "code",
   "execution_count": 51,
   "id": "a2a3367e",
   "metadata": {},
   "outputs": [
    {
     "data": {
      "text/plain": [
       "array([3, 2, 1, 4], dtype=object)"
      ]
     },
     "execution_count": 51,
     "metadata": {},
     "output_type": "execute_result"
    }
   ],
   "source": [
    "data['quartile'].unique()"
   ]
  },
  {
   "cell_type": "code",
   "execution_count": 52,
   "id": "881d91f7",
   "metadata": {},
   "outputs": [
    {
     "data": {
      "text/plain": [
       "3    3007\n",
       "2    2696\n",
       "4    2237\n",
       "1    2177\n",
       "Name: quartile, dtype: int64"
      ]
     },
     "execution_count": 52,
     "metadata": {},
     "output_type": "execute_result"
    }
   ],
   "source": [
    "data['quartile'].value_counts()"
   ]
  },
  {
   "cell_type": "code",
   "execution_count": 53,
   "id": "144df446",
   "metadata": {},
   "outputs": [],
   "source": [
    "data['quartile'] = data['quartile'].astype(str).astype(int)"
   ]
  },
  {
   "cell_type": "code",
   "execution_count": 54,
   "id": "1a301473",
   "metadata": {},
   "outputs": [
    {
     "data": {
      "text/plain": [
       "dtype('int64')"
      ]
     },
     "execution_count": 54,
     "metadata": {},
     "output_type": "execute_result"
    }
   ],
   "source": [
    "data['quartile'].dtypes"
   ]
  },
  {
   "cell_type": "code",
   "execution_count": 55,
   "id": "9937592d",
   "metadata": {},
   "outputs": [
    {
     "data": {
      "text/plain": [
       "array([18, 20, ' ', 19, 27, 21, 17, 23, 13, 14, 22, 12, 16, 15, 26, 24,\n",
       "       11, 30, 25, 29, 28, 9, 10, 6, 7, 5, 8, 4, 3, 2], dtype=object)"
      ]
     },
     "execution_count": 55,
     "metadata": {},
     "output_type": "execute_result"
    }
   ],
   "source": [
    "data['typical_fall_to_spring_growth'].unique()"
   ]
  },
  {
   "cell_type": "code",
   "execution_count": 56,
   "id": "1fbf6253",
   "metadata": {},
   "outputs": [
    {
     "data": {
      "text/plain": [
       "      5046\n",
       "10     561\n",
       "4      480\n",
       "5      480\n",
       "2      384\n",
       "3      349\n",
       "6      328\n",
       "7      257\n",
       "11     213\n",
       "18     206\n",
       "8      199\n",
       "12     196\n",
       "9      181\n",
       "20     170\n",
       "13     156\n",
       "19     144\n",
       "17     121\n",
       "16     118\n",
       "21     117\n",
       "15      96\n",
       "14      86\n",
       "22      85\n",
       "23      69\n",
       "24      32\n",
       "25      16\n",
       "26      13\n",
       "27       8\n",
       "30       3\n",
       "29       2\n",
       "28       1\n",
       "Name: typical_fall_to_spring_growth, dtype: int64"
      ]
     },
     "execution_count": 56,
     "metadata": {},
     "output_type": "execute_result"
    }
   ],
   "source": [
    "data['typical_fall_to_spring_growth'].value_counts()"
   ]
  },
  {
   "cell_type": "code",
   "execution_count": 66,
   "id": "960e4c58",
   "metadata": {},
   "outputs": [],
   "source": [
    "#Replace ' ' with 0 then change the data from a string to a number\n",
    "\n",
    "data['typical_fall_to_spring_growth'] = data['typical_fall_to_spring_growth'].replace(' ', 0)\n",
    "\n",
    "data['typical_fall_to_spring_growth'] = data['typical_fall_to_spring_growth'].astype(str).astype(int)"
   ]
  },
  {
   "cell_type": "markdown",
   "id": "2a9e7ad7",
   "metadata": {},
   "source": [
    "Some data is missing here but we will not delete those rows.  Students may have taken the MAP test in the Fall and not the Spring or vice versa.  We will make a separate dataframe with no empty cells and call it data_perfect."
   ]
  },
  {
   "cell_type": "code",
   "execution_count": 67,
   "id": "15a0abb9",
   "metadata": {},
   "outputs": [],
   "source": [
    "data_perfect = data.copy()\n",
    "data_perfect.drop(data_perfect[data_perfect['typical_fall_to_spring_growth'] == ' '].index, inplace = True)"
   ]
  },
  {
   "cell_type": "code",
   "execution_count": 68,
   "id": "fb123af1",
   "metadata": {},
   "outputs": [
    {
     "data": {
      "text/plain": [
       "array(['SPED', ' ', 'LEP', 'Tier 2', 'Gifted', 504], dtype=object)"
      ]
     },
     "execution_count": 68,
     "metadata": {},
     "output_type": "execute_result"
    }
   ],
   "source": [
    "data['program_name'].unique()"
   ]
  },
  {
   "cell_type": "code",
   "execution_count": 69,
   "id": "c7ca650e",
   "metadata": {},
   "outputs": [],
   "source": [
    "#Replace ' ' with General for General Student\n",
    "\n",
    "data['program_name'] = data['program_name'].replace(' ', 'General')\n",
    "data_perfect['program_name'] = data_perfect['program_name'].replace(' ', 'General')"
   ]
  },
  {
   "cell_type": "code",
   "execution_count": 70,
   "id": "8472b069",
   "metadata": {},
   "outputs": [
    {
     "data": {
      "text/plain": [
       "array(['SPED', 'General', 'LEP', 'Tier 2', 'Gifted', 504], dtype=object)"
      ]
     },
     "execution_count": 70,
     "metadata": {},
     "output_type": "execute_result"
    }
   ],
   "source": [
    "data['program_name'].unique()"
   ]
  },
  {
   "cell_type": "code",
   "execution_count": 71,
   "id": "b5b3a846",
   "metadata": {},
   "outputs": [
    {
     "data": {
      "text/plain": [
       "General    8157\n",
       "Gifted      734\n",
       "SPED        698\n",
       "Tier 2      331\n",
       "LEP         122\n",
       "504          75\n",
       "Name: program_name, dtype: int64"
      ]
     },
     "execution_count": 71,
     "metadata": {},
     "output_type": "execute_result"
    }
   ],
   "source": [
    "data['program_name'].value_counts()"
   ]
  },
  {
   "cell_type": "markdown",
   "id": "e63f74d2",
   "metadata": {},
   "source": [
    "General: Student without special education ability \n",
    "\n",
    "Gifted: Student is able to perofrm at a higher level\n",
    "\n",
    "SPED: Student is provided accomodations to assist with his/her education\n",
    "\n",
    "Tier 2: Student needs small group instruction\n",
    "\n",
    "LEP: Student has limit english proficiency\n",
    "\n",
    "504: Student has a disiblity under the law (ex. asthma)"
   ]
  },
  {
   "cell_type": "code",
   "execution_count": 72,
   "id": "409db44f",
   "metadata": {},
   "outputs": [
    {
     "data": {
      "text/html": [
       "<div>\n",
       "<style scoped>\n",
       "    .dataframe tbody tr th:only-of-type {\n",
       "        vertical-align: middle;\n",
       "    }\n",
       "\n",
       "    .dataframe tbody tr th {\n",
       "        vertical-align: top;\n",
       "    }\n",
       "\n",
       "    .dataframe thead th {\n",
       "        text-align: right;\n",
       "    }\n",
       "</style>\n",
       "<table border=\"1\" class=\"dataframe\">\n",
       "  <thead>\n",
       "    <tr style=\"text-align: right;\">\n",
       "      <th></th>\n",
       "      <th>student_id</th>\n",
       "      <th>school_name</th>\n",
       "      <th>grade_level_2019</th>\n",
       "      <th>year</th>\n",
       "      <th>map_term</th>\n",
       "      <th>subject</th>\n",
       "      <th>rit_score</th>\n",
       "      <th>percentile</th>\n",
       "      <th>quartile</th>\n",
       "      <th>typical_fall_to_spring_growth</th>\n",
       "      <th>program_name</th>\n",
       "    </tr>\n",
       "  </thead>\n",
       "  <tbody>\n",
       "    <tr>\n",
       "      <th>0</th>\n",
       "      <td>13898</td>\n",
       "      <td>School G</td>\n",
       "      <td>1</td>\n",
       "      <td>2019</td>\n",
       "      <td>Fall</td>\n",
       "      <td>Reading</td>\n",
       "      <td>161</td>\n",
       "      <td>59</td>\n",
       "      <td>3</td>\n",
       "      <td>18</td>\n",
       "      <td>SPED</td>\n",
       "    </tr>\n",
       "    <tr>\n",
       "      <th>1</th>\n",
       "      <td>13898</td>\n",
       "      <td>School G</td>\n",
       "      <td>1</td>\n",
       "      <td>2019</td>\n",
       "      <td>Fall</td>\n",
       "      <td>Math</td>\n",
       "      <td>166</td>\n",
       "      <td>69</td>\n",
       "      <td>3</td>\n",
       "      <td>20</td>\n",
       "      <td>SPED</td>\n",
       "    </tr>\n",
       "    <tr>\n",
       "      <th>2</th>\n",
       "      <td>13898</td>\n",
       "      <td>School G</td>\n",
       "      <td>1</td>\n",
       "      <td>2019</td>\n",
       "      <td>Spring</td>\n",
       "      <td>Reading</td>\n",
       "      <td>175</td>\n",
       "      <td>43</td>\n",
       "      <td>2</td>\n",
       "      <td>0</td>\n",
       "      <td>SPED</td>\n",
       "    </tr>\n",
       "    <tr>\n",
       "      <th>3</th>\n",
       "      <td>13898</td>\n",
       "      <td>School G</td>\n",
       "      <td>1</td>\n",
       "      <td>2019</td>\n",
       "      <td>Spring</td>\n",
       "      <td>Math</td>\n",
       "      <td>186</td>\n",
       "      <td>65</td>\n",
       "      <td>3</td>\n",
       "      <td>0</td>\n",
       "      <td>SPED</td>\n",
       "    </tr>\n",
       "    <tr>\n",
       "      <th>4</th>\n",
       "      <td>27795</td>\n",
       "      <td>School G</td>\n",
       "      <td>1</td>\n",
       "      <td>2019</td>\n",
       "      <td>Fall</td>\n",
       "      <td>Reading</td>\n",
       "      <td>158</td>\n",
       "      <td>50</td>\n",
       "      <td>3</td>\n",
       "      <td>19</td>\n",
       "      <td>SPED</td>\n",
       "    </tr>\n",
       "  </tbody>\n",
       "</table>\n",
       "</div>"
      ],
      "text/plain": [
       "   student_id school_name  grade_level_2019  year map_term  subject  \\\n",
       "0       13898    School G                 1  2019     Fall  Reading   \n",
       "1       13898    School G                 1  2019     Fall     Math   \n",
       "2       13898    School G                 1  2019   Spring  Reading   \n",
       "3       13898    School G                 1  2019   Spring     Math   \n",
       "4       27795    School G                 1  2019     Fall  Reading   \n",
       "\n",
       "   rit_score  percentile  quartile  typical_fall_to_spring_growth program_name  \n",
       "0        161          59         3                             18         SPED  \n",
       "1        166          69         3                             20         SPED  \n",
       "2        175          43         2                              0         SPED  \n",
       "3        186          65         3                              0         SPED  \n",
       "4        158          50         3                             19         SPED  "
      ]
     },
     "execution_count": 72,
     "metadata": {},
     "output_type": "execute_result"
    }
   ],
   "source": [
    "data.head()"
   ]
  },
  {
   "cell_type": "code",
   "execution_count": 73,
   "id": "2dcda1f4",
   "metadata": {},
   "outputs": [
    {
     "data": {
      "text/plain": [
       "(10117, 11)"
      ]
     },
     "execution_count": 73,
     "metadata": {},
     "output_type": "execute_result"
    }
   ],
   "source": [
    "data.shape"
   ]
  },
  {
   "cell_type": "code",
   "execution_count": 74,
   "id": "3a72544a",
   "metadata": {},
   "outputs": [
    {
     "data": {
      "text/html": [
       "<div>\n",
       "<style scoped>\n",
       "    .dataframe tbody tr th:only-of-type {\n",
       "        vertical-align: middle;\n",
       "    }\n",
       "\n",
       "    .dataframe tbody tr th {\n",
       "        vertical-align: top;\n",
       "    }\n",
       "\n",
       "    .dataframe thead th {\n",
       "        text-align: right;\n",
       "    }\n",
       "</style>\n",
       "<table border=\"1\" class=\"dataframe\">\n",
       "  <thead>\n",
       "    <tr style=\"text-align: right;\">\n",
       "      <th></th>\n",
       "      <th>student_id</th>\n",
       "      <th>school_name</th>\n",
       "      <th>grade_level_2019</th>\n",
       "      <th>year</th>\n",
       "      <th>map_term</th>\n",
       "      <th>subject</th>\n",
       "      <th>rit_score</th>\n",
       "      <th>percentile</th>\n",
       "      <th>quartile</th>\n",
       "      <th>typical_fall_to_spring_growth</th>\n",
       "      <th>program_name</th>\n",
       "    </tr>\n",
       "  </thead>\n",
       "  <tbody>\n",
       "    <tr>\n",
       "      <th>0</th>\n",
       "      <td>13898</td>\n",
       "      <td>School G</td>\n",
       "      <td>1</td>\n",
       "      <td>2019</td>\n",
       "      <td>Fall</td>\n",
       "      <td>Reading</td>\n",
       "      <td>161</td>\n",
       "      <td>59</td>\n",
       "      <td>3</td>\n",
       "      <td>18</td>\n",
       "      <td>SPED</td>\n",
       "    </tr>\n",
       "    <tr>\n",
       "      <th>1</th>\n",
       "      <td>13898</td>\n",
       "      <td>School G</td>\n",
       "      <td>1</td>\n",
       "      <td>2019</td>\n",
       "      <td>Fall</td>\n",
       "      <td>Math</td>\n",
       "      <td>166</td>\n",
       "      <td>69</td>\n",
       "      <td>3</td>\n",
       "      <td>20</td>\n",
       "      <td>SPED</td>\n",
       "    </tr>\n",
       "    <tr>\n",
       "      <th>2</th>\n",
       "      <td>13898</td>\n",
       "      <td>School G</td>\n",
       "      <td>1</td>\n",
       "      <td>2019</td>\n",
       "      <td>Spring</td>\n",
       "      <td>Reading</td>\n",
       "      <td>175</td>\n",
       "      <td>43</td>\n",
       "      <td>2</td>\n",
       "      <td>0</td>\n",
       "      <td>SPED</td>\n",
       "    </tr>\n",
       "    <tr>\n",
       "      <th>3</th>\n",
       "      <td>13898</td>\n",
       "      <td>School G</td>\n",
       "      <td>1</td>\n",
       "      <td>2019</td>\n",
       "      <td>Spring</td>\n",
       "      <td>Math</td>\n",
       "      <td>186</td>\n",
       "      <td>65</td>\n",
       "      <td>3</td>\n",
       "      <td>0</td>\n",
       "      <td>SPED</td>\n",
       "    </tr>\n",
       "    <tr>\n",
       "      <th>4</th>\n",
       "      <td>27795</td>\n",
       "      <td>School G</td>\n",
       "      <td>1</td>\n",
       "      <td>2019</td>\n",
       "      <td>Fall</td>\n",
       "      <td>Reading</td>\n",
       "      <td>158</td>\n",
       "      <td>50</td>\n",
       "      <td>3</td>\n",
       "      <td>19</td>\n",
       "      <td>SPED</td>\n",
       "    </tr>\n",
       "  </tbody>\n",
       "</table>\n",
       "</div>"
      ],
      "text/plain": [
       "   student_id school_name  grade_level_2019  year map_term  subject  \\\n",
       "0       13898    School G                 1  2019     Fall  Reading   \n",
       "1       13898    School G                 1  2019     Fall     Math   \n",
       "2       13898    School G                 1  2019   Spring  Reading   \n",
       "3       13898    School G                 1  2019   Spring     Math   \n",
       "4       27795    School G                 1  2019     Fall  Reading   \n",
       "\n",
       "   rit_score  percentile  quartile  typical_fall_to_spring_growth program_name  \n",
       "0        161          59         3                             18         SPED  \n",
       "1        166          69         3                             20         SPED  \n",
       "2        175          43         2                              0         SPED  \n",
       "3        186          65         3                              0         SPED  \n",
       "4        158          50         3                             19         SPED  "
      ]
     },
     "execution_count": 74,
     "metadata": {},
     "output_type": "execute_result"
    }
   ],
   "source": [
    "data_perfect.head()"
   ]
  },
  {
   "cell_type": "code",
   "execution_count": 75,
   "id": "95e65863",
   "metadata": {},
   "outputs": [
    {
     "data": {
      "text/plain": [
       "(10117, 11)"
      ]
     },
     "execution_count": 75,
     "metadata": {},
     "output_type": "execute_result"
    }
   ],
   "source": [
    "data_perfect.shape"
   ]
  },
  {
   "cell_type": "code",
   "execution_count": 76,
   "id": "6f671943",
   "metadata": {},
   "outputs": [
    {
     "name": "stdout",
     "output_type": "stream",
     "text": [
      "<class 'pandas.core.frame.DataFrame'>\n",
      "Int64Index: 10117 entries, 0 to 11120\n",
      "Data columns (total 11 columns):\n",
      " #   Column                         Non-Null Count  Dtype \n",
      "---  ------                         --------------  ----- \n",
      " 0   student_id                     10117 non-null  int64 \n",
      " 1   school_name                    10117 non-null  object\n",
      " 2   grade_level_2019               10117 non-null  int64 \n",
      " 3   year                           10117 non-null  int64 \n",
      " 4   map_term                       10117 non-null  object\n",
      " 5   subject                        10117 non-null  object\n",
      " 6   rit_score                      10117 non-null  int64 \n",
      " 7   percentile                     10117 non-null  int64 \n",
      " 8   quartile                       10117 non-null  int64 \n",
      " 9   typical_fall_to_spring_growth  10117 non-null  int64 \n",
      " 10  program_name                   10117 non-null  object\n",
      "dtypes: int64(7), object(4)\n",
      "memory usage: 1.2+ MB\n"
     ]
    }
   ],
   "source": [
    "data.info()"
   ]
  },
  {
   "cell_type": "code",
   "execution_count": null,
   "id": "74562e8f",
   "metadata": {},
   "outputs": [],
   "source": []
  }
 ],
 "metadata": {
  "kernelspec": {
   "display_name": "Python 3",
   "language": "python",
   "name": "python3"
  },
  "language_info": {
   "codemirror_mode": {
    "name": "ipython",
    "version": 3
   },
   "file_extension": ".py",
   "mimetype": "text/x-python",
   "name": "python",
   "nbconvert_exporter": "python",
   "pygments_lexer": "ipython3",
   "version": "3.8.8"
  }
 },
 "nbformat": 4,
 "nbformat_minor": 5
}
