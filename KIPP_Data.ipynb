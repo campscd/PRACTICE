{
 "cells": [
  {
   "cell_type": "code",
   "execution_count": 48,
   "id": "bbb42f56",
   "metadata": {},
   "outputs": [],
   "source": [
    "import pandas as pd\n",
    "import numpy as np"
   ]
  },
  {
   "cell_type": "code",
   "execution_count": 9,
   "id": "7692419e",
   "metadata": {},
   "outputs": [],
   "source": [
    "enrollment = pd.read_excel('Performance_Task.xlsx',sheet_name = 'Enrollment')"
   ]
  },
  {
   "cell_type": "code",
   "execution_count": 10,
   "id": "7571b22f",
   "metadata": {},
   "outputs": [
    {
     "data": {
      "text/html": [
       "<div>\n",
       "<style scoped>\n",
       "    .dataframe tbody tr th:only-of-type {\n",
       "        vertical-align: middle;\n",
       "    }\n",
       "\n",
       "    .dataframe tbody tr th {\n",
       "        vertical-align: top;\n",
       "    }\n",
       "\n",
       "    .dataframe thead th {\n",
       "        text-align: right;\n",
       "    }\n",
       "</style>\n",
       "<table border=\"1\" class=\"dataframe\">\n",
       "  <thead>\n",
       "    <tr style=\"text-align: right;\">\n",
       "      <th></th>\n",
       "      <th>student_id</th>\n",
       "      <th>school_name</th>\n",
       "      <th>grade_level_2019</th>\n",
       "    </tr>\n",
       "  </thead>\n",
       "  <tbody>\n",
       "    <tr>\n",
       "      <th>0</th>\n",
       "      <td>13898</td>\n",
       "      <td>School G</td>\n",
       "      <td>1</td>\n",
       "    </tr>\n",
       "    <tr>\n",
       "      <th>1</th>\n",
       "      <td>27795</td>\n",
       "      <td>School G</td>\n",
       "      <td>1</td>\n",
       "    </tr>\n",
       "    <tr>\n",
       "      <th>2</th>\n",
       "      <td>22938</td>\n",
       "      <td>School E</td>\n",
       "      <td>1</td>\n",
       "    </tr>\n",
       "    <tr>\n",
       "      <th>3</th>\n",
       "      <td>22431</td>\n",
       "      <td>School F</td>\n",
       "      <td>1</td>\n",
       "    </tr>\n",
       "    <tr>\n",
       "      <th>4</th>\n",
       "      <td>18048</td>\n",
       "      <td>School E</td>\n",
       "      <td>1</td>\n",
       "    </tr>\n",
       "  </tbody>\n",
       "</table>\n",
       "</div>"
      ],
      "text/plain": [
       "   student_id school_name  grade_level_2019\n",
       "0       13898    School G                 1\n",
       "1       27795    School G                 1\n",
       "2       22938    School E                 1\n",
       "3       22431    School F                 1\n",
       "4       18048    School E                 1"
      ]
     },
     "execution_count": 10,
     "metadata": {},
     "output_type": "execute_result"
    }
   ],
   "source": [
    "enrollment.head()"
   ]
  },
  {
   "cell_type": "code",
   "execution_count": 15,
   "id": "d2df7fea",
   "metadata": {},
   "outputs": [
    {
     "data": {
      "text/plain": [
       "(2788, 3)"
      ]
     },
     "execution_count": 15,
     "metadata": {},
     "output_type": "execute_result"
    }
   ],
   "source": [
    "enrollment.shape"
   ]
  },
  {
   "cell_type": "code",
   "execution_count": 11,
   "id": "6ae52f06",
   "metadata": {},
   "outputs": [],
   "source": [
    "MAP_scores = pd.read_excel('Performance_Task.xlsx',sheet_name = 'MAP Scores')"
   ]
  },
  {
   "cell_type": "code",
   "execution_count": 12,
   "id": "27c4a52e",
   "metadata": {},
   "outputs": [
    {
     "data": {
      "text/html": [
       "<div>\n",
       "<style scoped>\n",
       "    .dataframe tbody tr th:only-of-type {\n",
       "        vertical-align: middle;\n",
       "    }\n",
       "\n",
       "    .dataframe tbody tr th {\n",
       "        vertical-align: top;\n",
       "    }\n",
       "\n",
       "    .dataframe thead th {\n",
       "        text-align: right;\n",
       "    }\n",
       "</style>\n",
       "<table border=\"1\" class=\"dataframe\">\n",
       "  <thead>\n",
       "    <tr style=\"text-align: right;\">\n",
       "      <th></th>\n",
       "      <th>student_id</th>\n",
       "      <th>year</th>\n",
       "      <th>map_term</th>\n",
       "      <th>subject</th>\n",
       "      <th>rit_score</th>\n",
       "      <th>percentile</th>\n",
       "      <th>quartile</th>\n",
       "      <th>typical_fall_to_spring_growth</th>\n",
       "    </tr>\n",
       "  </thead>\n",
       "  <tbody>\n",
       "    <tr>\n",
       "      <th>0</th>\n",
       "      <td>13898</td>\n",
       "      <td>2019</td>\n",
       "      <td>Fall</td>\n",
       "      <td>Reading</td>\n",
       "      <td>161</td>\n",
       "      <td>59</td>\n",
       "      <td>3</td>\n",
       "      <td>18</td>\n",
       "    </tr>\n",
       "    <tr>\n",
       "      <th>1</th>\n",
       "      <td>27795</td>\n",
       "      <td>2019</td>\n",
       "      <td>Fall</td>\n",
       "      <td>Reading</td>\n",
       "      <td>158</td>\n",
       "      <td>50</td>\n",
       "      <td>3</td>\n",
       "      <td>19</td>\n",
       "    </tr>\n",
       "    <tr>\n",
       "      <th>2</th>\n",
       "      <td>22938</td>\n",
       "      <td>2019</td>\n",
       "      <td>Fall</td>\n",
       "      <td>Reading</td>\n",
       "      <td>162</td>\n",
       "      <td>62</td>\n",
       "      <td>3</td>\n",
       "      <td>18</td>\n",
       "    </tr>\n",
       "    <tr>\n",
       "      <th>3</th>\n",
       "      <td>22431</td>\n",
       "      <td>2019</td>\n",
       "      <td>Fall</td>\n",
       "      <td>Reading</td>\n",
       "      <td>162</td>\n",
       "      <td>62</td>\n",
       "      <td>3</td>\n",
       "      <td>18</td>\n",
       "    </tr>\n",
       "    <tr>\n",
       "      <th>4</th>\n",
       "      <td>18048</td>\n",
       "      <td>2019</td>\n",
       "      <td>Fall</td>\n",
       "      <td>Reading</td>\n",
       "      <td>166</td>\n",
       "      <td>73</td>\n",
       "      <td>3</td>\n",
       "      <td>17</td>\n",
       "    </tr>\n",
       "  </tbody>\n",
       "</table>\n",
       "</div>"
      ],
      "text/plain": [
       "   student_id  year map_term  subject rit_score percentile quartile  \\\n",
       "0       13898  2019     Fall  Reading       161         59        3   \n",
       "1       27795  2019     Fall  Reading       158         50        3   \n",
       "2       22938  2019     Fall  Reading       162         62        3   \n",
       "3       22431  2019     Fall  Reading       162         62        3   \n",
       "4       18048  2019     Fall  Reading       166         73        3   \n",
       "\n",
       "  typical_fall_to_spring_growth  \n",
       "0                            18  \n",
       "1                            19  \n",
       "2                            18  \n",
       "3                            18  \n",
       "4                            17  "
      ]
     },
     "execution_count": 12,
     "metadata": {},
     "output_type": "execute_result"
    }
   ],
   "source": [
    "MAP_scores.head()"
   ]
  },
  {
   "cell_type": "code",
   "execution_count": 16,
   "id": "ada79f1a",
   "metadata": {},
   "outputs": [
    {
     "data": {
      "text/plain": [
       "(11118, 8)"
      ]
     },
     "execution_count": 16,
     "metadata": {},
     "output_type": "execute_result"
    }
   ],
   "source": [
    "MAP_scores.shape"
   ]
  },
  {
   "cell_type": "code",
   "execution_count": 19,
   "id": "6b2485dd",
   "metadata": {},
   "outputs": [],
   "source": [
    "data = pd.merge(enrollment, MAP_scores, on = 'student_id')"
   ]
  },
  {
   "cell_type": "code",
   "execution_count": 20,
   "id": "defa34f1",
   "metadata": {},
   "outputs": [
    {
     "data": {
      "text/html": [
       "<div>\n",
       "<style scoped>\n",
       "    .dataframe tbody tr th:only-of-type {\n",
       "        vertical-align: middle;\n",
       "    }\n",
       "\n",
       "    .dataframe tbody tr th {\n",
       "        vertical-align: top;\n",
       "    }\n",
       "\n",
       "    .dataframe thead th {\n",
       "        text-align: right;\n",
       "    }\n",
       "</style>\n",
       "<table border=\"1\" class=\"dataframe\">\n",
       "  <thead>\n",
       "    <tr style=\"text-align: right;\">\n",
       "      <th></th>\n",
       "      <th>student_id</th>\n",
       "      <th>school_name</th>\n",
       "      <th>grade_level_2019</th>\n",
       "      <th>year</th>\n",
       "      <th>map_term</th>\n",
       "      <th>subject</th>\n",
       "      <th>rit_score</th>\n",
       "      <th>percentile</th>\n",
       "      <th>quartile</th>\n",
       "      <th>typical_fall_to_spring_growth</th>\n",
       "    </tr>\n",
       "  </thead>\n",
       "  <tbody>\n",
       "    <tr>\n",
       "      <th>0</th>\n",
       "      <td>13898</td>\n",
       "      <td>School G</td>\n",
       "      <td>1</td>\n",
       "      <td>2019</td>\n",
       "      <td>Fall</td>\n",
       "      <td>Reading</td>\n",
       "      <td>161</td>\n",
       "      <td>59</td>\n",
       "      <td>3</td>\n",
       "      <td>18</td>\n",
       "    </tr>\n",
       "    <tr>\n",
       "      <th>1</th>\n",
       "      <td>13898</td>\n",
       "      <td>School G</td>\n",
       "      <td>1</td>\n",
       "      <td>2019</td>\n",
       "      <td>Fall</td>\n",
       "      <td>Math</td>\n",
       "      <td>166</td>\n",
       "      <td>69</td>\n",
       "      <td>3</td>\n",
       "      <td>20</td>\n",
       "    </tr>\n",
       "    <tr>\n",
       "      <th>2</th>\n",
       "      <td>13898</td>\n",
       "      <td>School G</td>\n",
       "      <td>1</td>\n",
       "      <td>2019</td>\n",
       "      <td>Spring</td>\n",
       "      <td>Reading</td>\n",
       "      <td>175</td>\n",
       "      <td>43</td>\n",
       "      <td>2</td>\n",
       "      <td>.</td>\n",
       "    </tr>\n",
       "    <tr>\n",
       "      <th>3</th>\n",
       "      <td>13898</td>\n",
       "      <td>School G</td>\n",
       "      <td>1</td>\n",
       "      <td>2019</td>\n",
       "      <td>Spring</td>\n",
       "      <td>Math</td>\n",
       "      <td>186</td>\n",
       "      <td>65</td>\n",
       "      <td>3</td>\n",
       "      <td>.</td>\n",
       "    </tr>\n",
       "    <tr>\n",
       "      <th>4</th>\n",
       "      <td>27795</td>\n",
       "      <td>School G</td>\n",
       "      <td>1</td>\n",
       "      <td>2019</td>\n",
       "      <td>Fall</td>\n",
       "      <td>Reading</td>\n",
       "      <td>158</td>\n",
       "      <td>50</td>\n",
       "      <td>3</td>\n",
       "      <td>19</td>\n",
       "    </tr>\n",
       "  </tbody>\n",
       "</table>\n",
       "</div>"
      ],
      "text/plain": [
       "   student_id school_name  grade_level_2019  year map_term  subject rit_score  \\\n",
       "0       13898    School G                 1  2019     Fall  Reading       161   \n",
       "1       13898    School G                 1  2019     Fall     Math       166   \n",
       "2       13898    School G                 1  2019   Spring  Reading       175   \n",
       "3       13898    School G                 1  2019   Spring     Math       186   \n",
       "4       27795    School G                 1  2019     Fall  Reading       158   \n",
       "\n",
       "  percentile quartile typical_fall_to_spring_growth  \n",
       "0         59        3                            18  \n",
       "1         69        3                            20  \n",
       "2         43        2                             .  \n",
       "3         65        3                             .  \n",
       "4         50        3                            19  "
      ]
     },
     "execution_count": 20,
     "metadata": {},
     "output_type": "execute_result"
    }
   ],
   "source": [
    "data.head()"
   ]
  },
  {
   "cell_type": "code",
   "execution_count": 13,
   "id": "6c5b322d",
   "metadata": {},
   "outputs": [],
   "source": [
    "Spec_Programs = pd.read_excel('Performance_Task.xlsx',sheet_name = 'Special Programs')"
   ]
  },
  {
   "cell_type": "code",
   "execution_count": 14,
   "id": "d42ddfe9",
   "metadata": {},
   "outputs": [
    {
     "data": {
      "text/html": [
       "<div>\n",
       "<style scoped>\n",
       "    .dataframe tbody tr th:only-of-type {\n",
       "        vertical-align: middle;\n",
       "    }\n",
       "\n",
       "    .dataframe tbody tr th {\n",
       "        vertical-align: top;\n",
       "    }\n",
       "\n",
       "    .dataframe thead th {\n",
       "        text-align: right;\n",
       "    }\n",
       "</style>\n",
       "<table border=\"1\" class=\"dataframe\">\n",
       "  <thead>\n",
       "    <tr style=\"text-align: right;\">\n",
       "      <th></th>\n",
       "      <th>student_id</th>\n",
       "      <th>program_name</th>\n",
       "    </tr>\n",
       "  </thead>\n",
       "  <tbody>\n",
       "    <tr>\n",
       "      <th>0</th>\n",
       "      <td>13898</td>\n",
       "      <td>SPED</td>\n",
       "    </tr>\n",
       "    <tr>\n",
       "      <th>1</th>\n",
       "      <td>27795</td>\n",
       "      <td>SPED</td>\n",
       "    </tr>\n",
       "    <tr>\n",
       "      <th>2</th>\n",
       "      <td>22938</td>\n",
       "      <td>.</td>\n",
       "    </tr>\n",
       "    <tr>\n",
       "      <th>3</th>\n",
       "      <td>22431</td>\n",
       "      <td>.</td>\n",
       "    </tr>\n",
       "    <tr>\n",
       "      <th>4</th>\n",
       "      <td>18048</td>\n",
       "      <td>.</td>\n",
       "    </tr>\n",
       "  </tbody>\n",
       "</table>\n",
       "</div>"
      ],
      "text/plain": [
       "   student_id program_name\n",
       "0       13898         SPED\n",
       "1       27795         SPED\n",
       "2       22938            .\n",
       "3       22431            .\n",
       "4       18048            ."
      ]
     },
     "execution_count": 14,
     "metadata": {},
     "output_type": "execute_result"
    }
   ],
   "source": [
    "Spec_Programs.head()"
   ]
  },
  {
   "cell_type": "code",
   "execution_count": 18,
   "id": "2bf24be2",
   "metadata": {},
   "outputs": [
    {
     "data": {
      "text/plain": [
       "(2787, 2)"
      ]
     },
     "execution_count": 18,
     "metadata": {},
     "output_type": "execute_result"
    }
   ],
   "source": [
    "Spec_Programs.shape"
   ]
  },
  {
   "cell_type": "code",
   "execution_count": 22,
   "id": "72149fc4",
   "metadata": {},
   "outputs": [],
   "source": [
    "data = pd.merge(data,Spec_Programs, on = 'student_id')"
   ]
  },
  {
   "cell_type": "code",
   "execution_count": 23,
   "id": "76f0cefa",
   "metadata": {},
   "outputs": [
    {
     "data": {
      "text/html": [
       "<div>\n",
       "<style scoped>\n",
       "    .dataframe tbody tr th:only-of-type {\n",
       "        vertical-align: middle;\n",
       "    }\n",
       "\n",
       "    .dataframe tbody tr th {\n",
       "        vertical-align: top;\n",
       "    }\n",
       "\n",
       "    .dataframe thead th {\n",
       "        text-align: right;\n",
       "    }\n",
       "</style>\n",
       "<table border=\"1\" class=\"dataframe\">\n",
       "  <thead>\n",
       "    <tr style=\"text-align: right;\">\n",
       "      <th></th>\n",
       "      <th>student_id</th>\n",
       "      <th>school_name</th>\n",
       "      <th>grade_level_2019</th>\n",
       "      <th>year</th>\n",
       "      <th>map_term</th>\n",
       "      <th>subject</th>\n",
       "      <th>rit_score</th>\n",
       "      <th>percentile</th>\n",
       "      <th>quartile</th>\n",
       "      <th>typical_fall_to_spring_growth</th>\n",
       "      <th>program_name</th>\n",
       "    </tr>\n",
       "  </thead>\n",
       "  <tbody>\n",
       "    <tr>\n",
       "      <th>0</th>\n",
       "      <td>13898</td>\n",
       "      <td>School G</td>\n",
       "      <td>1</td>\n",
       "      <td>2019</td>\n",
       "      <td>Fall</td>\n",
       "      <td>Reading</td>\n",
       "      <td>161</td>\n",
       "      <td>59</td>\n",
       "      <td>3</td>\n",
       "      <td>18</td>\n",
       "      <td>SPED</td>\n",
       "    </tr>\n",
       "    <tr>\n",
       "      <th>1</th>\n",
       "      <td>13898</td>\n",
       "      <td>School G</td>\n",
       "      <td>1</td>\n",
       "      <td>2019</td>\n",
       "      <td>Fall</td>\n",
       "      <td>Math</td>\n",
       "      <td>166</td>\n",
       "      <td>69</td>\n",
       "      <td>3</td>\n",
       "      <td>20</td>\n",
       "      <td>SPED</td>\n",
       "    </tr>\n",
       "    <tr>\n",
       "      <th>2</th>\n",
       "      <td>13898</td>\n",
       "      <td>School G</td>\n",
       "      <td>1</td>\n",
       "      <td>2019</td>\n",
       "      <td>Spring</td>\n",
       "      <td>Reading</td>\n",
       "      <td>175</td>\n",
       "      <td>43</td>\n",
       "      <td>2</td>\n",
       "      <td>.</td>\n",
       "      <td>SPED</td>\n",
       "    </tr>\n",
       "    <tr>\n",
       "      <th>3</th>\n",
       "      <td>13898</td>\n",
       "      <td>School G</td>\n",
       "      <td>1</td>\n",
       "      <td>2019</td>\n",
       "      <td>Spring</td>\n",
       "      <td>Math</td>\n",
       "      <td>186</td>\n",
       "      <td>65</td>\n",
       "      <td>3</td>\n",
       "      <td>.</td>\n",
       "      <td>SPED</td>\n",
       "    </tr>\n",
       "    <tr>\n",
       "      <th>4</th>\n",
       "      <td>27795</td>\n",
       "      <td>School G</td>\n",
       "      <td>1</td>\n",
       "      <td>2019</td>\n",
       "      <td>Fall</td>\n",
       "      <td>Reading</td>\n",
       "      <td>158</td>\n",
       "      <td>50</td>\n",
       "      <td>3</td>\n",
       "      <td>19</td>\n",
       "      <td>SPED</td>\n",
       "    </tr>\n",
       "  </tbody>\n",
       "</table>\n",
       "</div>"
      ],
      "text/plain": [
       "   student_id school_name  grade_level_2019  year map_term  subject rit_score  \\\n",
       "0       13898    School G                 1  2019     Fall  Reading       161   \n",
       "1       13898    School G                 1  2019     Fall     Math       166   \n",
       "2       13898    School G                 1  2019   Spring  Reading       175   \n",
       "3       13898    School G                 1  2019   Spring     Math       186   \n",
       "4       27795    School G                 1  2019     Fall  Reading       158   \n",
       "\n",
       "  percentile quartile typical_fall_to_spring_growth program_name  \n",
       "0         59        3                            18         SPED  \n",
       "1         69        3                            20         SPED  \n",
       "2         43        2                             .         SPED  \n",
       "3         65        3                             .         SPED  \n",
       "4         50        3                            19         SPED  "
      ]
     },
     "execution_count": 23,
     "metadata": {},
     "output_type": "execute_result"
    }
   ],
   "source": [
    "data.head()"
   ]
  },
  {
   "cell_type": "code",
   "execution_count": 24,
   "id": "c5f914dd",
   "metadata": {},
   "outputs": [
    {
     "data": {
      "text/html": [
       "<div>\n",
       "<style scoped>\n",
       "    .dataframe tbody tr th:only-of-type {\n",
       "        vertical-align: middle;\n",
       "    }\n",
       "\n",
       "    .dataframe tbody tr th {\n",
       "        vertical-align: top;\n",
       "    }\n",
       "\n",
       "    .dataframe thead th {\n",
       "        text-align: right;\n",
       "    }\n",
       "</style>\n",
       "<table border=\"1\" class=\"dataframe\">\n",
       "  <thead>\n",
       "    <tr style=\"text-align: right;\">\n",
       "      <th></th>\n",
       "      <th>student_id</th>\n",
       "      <th>school_name</th>\n",
       "      <th>grade_level_2019</th>\n",
       "      <th>year</th>\n",
       "      <th>map_term</th>\n",
       "      <th>subject</th>\n",
       "      <th>rit_score</th>\n",
       "      <th>percentile</th>\n",
       "      <th>quartile</th>\n",
       "      <th>typical_fall_to_spring_growth</th>\n",
       "      <th>program_name</th>\n",
       "    </tr>\n",
       "  </thead>\n",
       "  <tbody>\n",
       "    <tr>\n",
       "      <th>11117</th>\n",
       "      <td>24197</td>\n",
       "      <td>School D</td>\n",
       "      <td>8</td>\n",
       "      <td>2019</td>\n",
       "      <td>Spring</td>\n",
       "      <td>Math</td>\n",
       "      <td>226</td>\n",
       "      <td>40</td>\n",
       "      <td>2</td>\n",
       "      <td>.</td>\n",
       "      <td>.</td>\n",
       "    </tr>\n",
       "    <tr>\n",
       "      <th>11118</th>\n",
       "      <td>27656</td>\n",
       "      <td>School D</td>\n",
       "      <td>8</td>\n",
       "      <td>2019</td>\n",
       "      <td>Fall</td>\n",
       "      <td>Math</td>\n",
       "      <td>199</td>\n",
       "      <td>5</td>\n",
       "      <td>1</td>\n",
       "      <td>6</td>\n",
       "      <td>.</td>\n",
       "    </tr>\n",
       "    <tr>\n",
       "      <th>11119</th>\n",
       "      <td>27656</td>\n",
       "      <td>School D</td>\n",
       "      <td>8</td>\n",
       "      <td>2019</td>\n",
       "      <td>Spring</td>\n",
       "      <td>Math</td>\n",
       "      <td>.</td>\n",
       "      <td>.</td>\n",
       "      <td>.</td>\n",
       "      <td>.</td>\n",
       "      <td>.</td>\n",
       "    </tr>\n",
       "    <tr>\n",
       "      <th>11120</th>\n",
       "      <td>29777</td>\n",
       "      <td>School E</td>\n",
       "      <td>0</td>\n",
       "      <td>2019</td>\n",
       "      <td>Fall</td>\n",
       "      <td>Math</td>\n",
       "      <td>133</td>\n",
       "      <td>32</td>\n",
       "      <td>2</td>\n",
       "      <td>21</td>\n",
       "      <td>.</td>\n",
       "    </tr>\n",
       "    <tr>\n",
       "      <th>11121</th>\n",
       "      <td>29777</td>\n",
       "      <td>School E</td>\n",
       "      <td>0</td>\n",
       "      <td>2019</td>\n",
       "      <td>Spring</td>\n",
       "      <td>Math</td>\n",
       "      <td>.</td>\n",
       "      <td>.</td>\n",
       "      <td>.</td>\n",
       "      <td>.</td>\n",
       "      <td>.</td>\n",
       "    </tr>\n",
       "  </tbody>\n",
       "</table>\n",
       "</div>"
      ],
      "text/plain": [
       "       student_id school_name  grade_level_2019  year map_term subject  \\\n",
       "11117       24197    School D                 8  2019   Spring    Math   \n",
       "11118       27656    School D                 8  2019     Fall    Math   \n",
       "11119       27656    School D                 8  2019   Spring    Math   \n",
       "11120       29777    School E                 0  2019     Fall    Math   \n",
       "11121       29777    School E                 0  2019   Spring    Math   \n",
       "\n",
       "      rit_score percentile quartile typical_fall_to_spring_growth program_name  \n",
       "11117       226         40        2                             .            .  \n",
       "11118       199          5        1                             6            .  \n",
       "11119         .          .        .                             .            .  \n",
       "11120       133         32        2                            21            .  \n",
       "11121         .          .        .                             .            .  "
      ]
     },
     "execution_count": 24,
     "metadata": {},
     "output_type": "execute_result"
    }
   ],
   "source": [
    "data.tail()"
   ]
  },
  {
   "cell_type": "code",
   "execution_count": 25,
   "id": "faf3f70e",
   "metadata": {},
   "outputs": [
    {
     "data": {
      "text/plain": [
       "(11122, 11)"
      ]
     },
     "execution_count": 25,
     "metadata": {},
     "output_type": "execute_result"
    }
   ],
   "source": [
    "data.shape"
   ]
  },
  {
   "cell_type": "markdown",
   "id": "31d46b84",
   "metadata": {},
   "source": [
    "All the features are needed to perform exploratory data analysis except student_id. \n",
    "student_id was needed to merge the tables together but it will not give us any valuable information.  This feature is a unique student identifier and would be valuable if individual teachers were given this information to use to identify which topics they need to reteach or spend more time on in the future.  We will keep ths feature for now. "
   ]
  },
  {
   "cell_type": "code",
   "execution_count": 26,
   "id": "b8491f7c",
   "metadata": {},
   "outputs": [
    {
     "name": "stdout",
     "output_type": "stream",
     "text": [
      "<class 'pandas.core.frame.DataFrame'>\n",
      "Int64Index: 11122 entries, 0 to 11121\n",
      "Data columns (total 11 columns):\n",
      " #   Column                         Non-Null Count  Dtype \n",
      "---  ------                         --------------  ----- \n",
      " 0   student_id                     11122 non-null  int64 \n",
      " 1   school_name                    11122 non-null  object\n",
      " 2   grade_level_2019               11122 non-null  int64 \n",
      " 3   year                           11122 non-null  int64 \n",
      " 4   map_term                       11122 non-null  object\n",
      " 5   subject                        11122 non-null  object\n",
      " 6   rit_score                      11122 non-null  object\n",
      " 7   percentile                     11122 non-null  object\n",
      " 8   quartile                       11122 non-null  object\n",
      " 9   typical_fall_to_spring_growth  11122 non-null  object\n",
      " 10  program_name                   11122 non-null  object\n",
      "dtypes: int64(3), object(8)\n",
      "memory usage: 1.0+ MB\n"
     ]
    }
   ],
   "source": [
    "data.info()"
   ]
  },
  {
   "cell_type": "code",
   "execution_count": 27,
   "id": "440f5395",
   "metadata": {},
   "outputs": [
    {
     "data": {
      "text/html": [
       "<div>\n",
       "<style scoped>\n",
       "    .dataframe tbody tr th:only-of-type {\n",
       "        vertical-align: middle;\n",
       "    }\n",
       "\n",
       "    .dataframe tbody tr th {\n",
       "        vertical-align: top;\n",
       "    }\n",
       "\n",
       "    .dataframe thead th {\n",
       "        text-align: right;\n",
       "    }\n",
       "</style>\n",
       "<table border=\"1\" class=\"dataframe\">\n",
       "  <thead>\n",
       "    <tr style=\"text-align: right;\">\n",
       "      <th></th>\n",
       "      <th>student_id</th>\n",
       "      <th>grade_level_2019</th>\n",
       "      <th>year</th>\n",
       "    </tr>\n",
       "  </thead>\n",
       "  <tbody>\n",
       "    <tr>\n",
       "      <th>count</th>\n",
       "      <td>11122.000000</td>\n",
       "      <td>11122.000000</td>\n",
       "      <td>11122.0</td>\n",
       "    </tr>\n",
       "    <tr>\n",
       "      <th>mean</th>\n",
       "      <td>19926.775220</td>\n",
       "      <td>4.227837</td>\n",
       "      <td>2019.0</td>\n",
       "    </tr>\n",
       "    <tr>\n",
       "      <th>std</th>\n",
       "      <td>5732.455867</td>\n",
       "      <td>2.714756</td>\n",
       "      <td>0.0</td>\n",
       "    </tr>\n",
       "    <tr>\n",
       "      <th>min</th>\n",
       "      <td>10000.000000</td>\n",
       "      <td>0.000000</td>\n",
       "      <td>2019.0</td>\n",
       "    </tr>\n",
       "    <tr>\n",
       "      <th>25%</th>\n",
       "      <td>14981.000000</td>\n",
       "      <td>2.000000</td>\n",
       "      <td>2019.0</td>\n",
       "    </tr>\n",
       "    <tr>\n",
       "      <th>50%</th>\n",
       "      <td>19856.000000</td>\n",
       "      <td>5.000000</td>\n",
       "      <td>2019.0</td>\n",
       "    </tr>\n",
       "    <tr>\n",
       "      <th>75%</th>\n",
       "      <td>24873.000000</td>\n",
       "      <td>7.000000</td>\n",
       "      <td>2019.0</td>\n",
       "    </tr>\n",
       "    <tr>\n",
       "      <th>max</th>\n",
       "      <td>29996.000000</td>\n",
       "      <td>8.000000</td>\n",
       "      <td>2019.0</td>\n",
       "    </tr>\n",
       "  </tbody>\n",
       "</table>\n",
       "</div>"
      ],
      "text/plain": [
       "         student_id  grade_level_2019     year\n",
       "count  11122.000000      11122.000000  11122.0\n",
       "mean   19926.775220          4.227837   2019.0\n",
       "std     5732.455867          2.714756      0.0\n",
       "min    10000.000000          0.000000   2019.0\n",
       "25%    14981.000000          2.000000   2019.0\n",
       "50%    19856.000000          5.000000   2019.0\n",
       "75%    24873.000000          7.000000   2019.0\n",
       "max    29996.000000          8.000000   2019.0"
      ]
     },
     "execution_count": 27,
     "metadata": {},
     "output_type": "execute_result"
    }
   ],
   "source": [
    "data.describe()"
   ]
  },
  {
   "cell_type": "code",
   "execution_count": 28,
   "id": "afe1f479",
   "metadata": {},
   "outputs": [
    {
     "data": {
      "text/plain": [
       "array(['School G', 'School E', 'School F', 'School B', 'School C',\n",
       "       'School D', 'School A'], dtype=object)"
      ]
     },
     "execution_count": 28,
     "metadata": {},
     "output_type": "execute_result"
    }
   ],
   "source": [
    "data['school_name'].unique()"
   ]
  },
  {
   "cell_type": "code",
   "execution_count": 33,
   "id": "22c2e022",
   "metadata": {},
   "outputs": [
    {
     "data": {
      "text/plain": [
       "School E    2154\n",
       "School F    1724\n",
       "School D    1586\n",
       "School A    1482\n",
       "School C    1440\n",
       "School B    1422\n",
       "School G    1314\n",
       "Name: school_name, dtype: int64"
      ]
     },
     "execution_count": 33,
     "metadata": {},
     "output_type": "execute_result"
    }
   ],
   "source": [
    "data['school_name'].value_counts()"
   ]
  },
  {
   "cell_type": "markdown",
   "id": "eb6fbe01",
   "metadata": {},
   "source": [
    "There are 7 schools in total.  Each letter represents a school."
   ]
  },
  {
   "cell_type": "code",
   "execution_count": 34,
   "id": "934cf36f",
   "metadata": {},
   "outputs": [
    {
     "data": {
      "text/plain": [
       "array([1, 2, 3, 4, 5, 6, 7, 8, 0])"
      ]
     },
     "execution_count": 34,
     "metadata": {},
     "output_type": "execute_result"
    }
   ],
   "source": [
    "data['grade_level_2019'].unique()"
   ]
  },
  {
   "cell_type": "code",
   "execution_count": 35,
   "id": "6d562b92",
   "metadata": {},
   "outputs": [
    {
     "data": {
      "text/plain": [
       "6    1574\n",
       "7    1488\n",
       "8    1476\n",
       "5    1392\n",
       "2    1280\n",
       "1    1278\n",
       "0    1270\n",
       "3     900\n",
       "4     464\n",
       "Name: grade_level_2019, dtype: int64"
      ]
     },
     "execution_count": 35,
     "metadata": {},
     "output_type": "execute_result"
    }
   ],
   "source": [
    "data['grade_level_2019'].value_counts()"
   ]
  },
  {
   "cell_type": "markdown",
   "id": "779b26ce",
   "metadata": {},
   "source": [
    "This data is for students from Pre-K to 8th grade.  Pre-K to 4th is primary school.  Middle school is 5th to 8th.  \n",
    "\n",
    "The number of student scores for the MAP test decreased tremedously from 2nd grade to 3rd and then to 4th.  The number of scores increased by 928 from 4th to 5th grade. \n",
    "\n",
    "Lets group by school and grade if there was a school that did not submit scores for a particuar school "
   ]
  },
  {
   "cell_type": "code",
   "execution_count": 37,
   "id": "74de043e",
   "metadata": {},
   "outputs": [],
   "source": [
    "Middle_School = data[data['grade_level_2019'] > 4] "
   ]
  },
  {
   "cell_type": "code",
   "execution_count": 39,
   "id": "9a38e19e",
   "metadata": {},
   "outputs": [
    {
     "data": {
      "text/plain": [
       "array(['School B', 'School C', 'School D', 'School A'], dtype=object)"
      ]
     },
     "execution_count": 39,
     "metadata": {},
     "output_type": "execute_result"
    }
   ],
   "source": [
    "Middle_School['school_name'].unique()"
   ]
  },
  {
   "cell_type": "code",
   "execution_count": 44,
   "id": "952a759f",
   "metadata": {},
   "outputs": [],
   "source": [
    "Primary_School = data[data['grade_level_2019'] < 5]"
   ]
  },
  {
   "cell_type": "code",
   "execution_count": 60,
   "id": "6f635ef8",
   "metadata": {},
   "outputs": [
    {
     "ename": "ValueError",
     "evalue": "Grouper for 'grade_level_2019' not 1-dimensional",
     "output_type": "error",
     "traceback": [
      "\u001b[0;31m---------------------------------------------------------------------------\u001b[0m",
      "\u001b[0;31mValueError\u001b[0m                                Traceback (most recent call last)",
      "\u001b[0;32m<ipython-input-60-78a3ea9f2c4b>\u001b[0m in \u001b[0;36m<module>\u001b[0;34m\u001b[0m\n\u001b[0;32m----> 1\u001b[0;31m \u001b[0mpd\u001b[0m\u001b[0;34m.\u001b[0m\u001b[0mpivot_table\u001b[0m\u001b[0;34m(\u001b[0m\u001b[0mPrimary_School\u001b[0m\u001b[0;34m,\u001b[0m \u001b[0mindex\u001b[0m \u001b[0;34m=\u001b[0m \u001b[0;34m[\u001b[0m\u001b[0;34m'grade_level_2019'\u001b[0m\u001b[0;34m]\u001b[0m\u001b[0;34m,\u001b[0m \u001b[0mcolumns\u001b[0m \u001b[0;34m=\u001b[0m \u001b[0;34m[\u001b[0m\u001b[0;34m'school_name'\u001b[0m\u001b[0;34m]\u001b[0m\u001b[0;34m,\u001b[0m \u001b[0mvalues\u001b[0m \u001b[0;34m=\u001b[0m \u001b[0;34m[\u001b[0m\u001b[0;34m'grade_level_2019'\u001b[0m\u001b[0;34m]\u001b[0m\u001b[0;34m,\u001b[0m \u001b[0maggfunc\u001b[0m \u001b[0;34m=\u001b[0m \u001b[0;34m'count'\u001b[0m\u001b[0;34m)\u001b[0m\u001b[0;34m\u001b[0m\u001b[0;34m\u001b[0m\u001b[0m\n\u001b[0m\u001b[1;32m      2\u001b[0m \u001b[0;34m\u001b[0m\u001b[0m\n",
      "\u001b[0;32m~/opt/anaconda3/lib/python3.8/site-packages/pandas/core/reshape/pivot.py\u001b[0m in \u001b[0;36mpivot_table\u001b[0;34m(data, values, index, columns, aggfunc, fill_value, margins, dropna, margins_name, observed)\u001b[0m\n\u001b[1;32m    110\u001b[0m         \u001b[0mvalues\u001b[0m \u001b[0;34m=\u001b[0m \u001b[0mlist\u001b[0m\u001b[0;34m(\u001b[0m\u001b[0mvalues\u001b[0m\u001b[0;34m)\u001b[0m\u001b[0;34m\u001b[0m\u001b[0;34m\u001b[0m\u001b[0m\n\u001b[1;32m    111\u001b[0m \u001b[0;34m\u001b[0m\u001b[0m\n\u001b[0;32m--> 112\u001b[0;31m     \u001b[0mgrouped\u001b[0m \u001b[0;34m=\u001b[0m \u001b[0mdata\u001b[0m\u001b[0;34m.\u001b[0m\u001b[0mgroupby\u001b[0m\u001b[0;34m(\u001b[0m\u001b[0mkeys\u001b[0m\u001b[0;34m,\u001b[0m \u001b[0mobserved\u001b[0m\u001b[0;34m=\u001b[0m\u001b[0mobserved\u001b[0m\u001b[0;34m)\u001b[0m\u001b[0;34m\u001b[0m\u001b[0;34m\u001b[0m\u001b[0m\n\u001b[0m\u001b[1;32m    113\u001b[0m     \u001b[0magged\u001b[0m \u001b[0;34m=\u001b[0m \u001b[0mgrouped\u001b[0m\u001b[0;34m.\u001b[0m\u001b[0magg\u001b[0m\u001b[0;34m(\u001b[0m\u001b[0maggfunc\u001b[0m\u001b[0;34m)\u001b[0m\u001b[0;34m\u001b[0m\u001b[0;34m\u001b[0m\u001b[0m\n\u001b[1;32m    114\u001b[0m     \u001b[0;32mif\u001b[0m \u001b[0mdropna\u001b[0m \u001b[0;32mand\u001b[0m \u001b[0misinstance\u001b[0m\u001b[0;34m(\u001b[0m\u001b[0magged\u001b[0m\u001b[0;34m,\u001b[0m \u001b[0mABCDataFrame\u001b[0m\u001b[0;34m)\u001b[0m \u001b[0;32mand\u001b[0m \u001b[0mlen\u001b[0m\u001b[0;34m(\u001b[0m\u001b[0magged\u001b[0m\u001b[0;34m.\u001b[0m\u001b[0mcolumns\u001b[0m\u001b[0;34m)\u001b[0m\u001b[0;34m:\u001b[0m\u001b[0;34m\u001b[0m\u001b[0;34m\u001b[0m\u001b[0m\n",
      "\u001b[0;32m~/opt/anaconda3/lib/python3.8/site-packages/pandas/core/frame.py\u001b[0m in \u001b[0;36mgroupby\u001b[0;34m(self, by, axis, level, as_index, sort, group_keys, squeeze, observed, dropna)\u001b[0m\n\u001b[1;32m   6715\u001b[0m         \u001b[0maxis\u001b[0m \u001b[0;34m=\u001b[0m \u001b[0mself\u001b[0m\u001b[0;34m.\u001b[0m\u001b[0m_get_axis_number\u001b[0m\u001b[0;34m(\u001b[0m\u001b[0maxis\u001b[0m\u001b[0;34m)\u001b[0m\u001b[0;34m\u001b[0m\u001b[0;34m\u001b[0m\u001b[0m\n\u001b[1;32m   6716\u001b[0m \u001b[0;34m\u001b[0m\u001b[0m\n\u001b[0;32m-> 6717\u001b[0;31m         return DataFrameGroupBy(\n\u001b[0m\u001b[1;32m   6718\u001b[0m             \u001b[0mobj\u001b[0m\u001b[0;34m=\u001b[0m\u001b[0mself\u001b[0m\u001b[0;34m,\u001b[0m\u001b[0;34m\u001b[0m\u001b[0;34m\u001b[0m\u001b[0m\n\u001b[1;32m   6719\u001b[0m             \u001b[0mkeys\u001b[0m\u001b[0;34m=\u001b[0m\u001b[0mby\u001b[0m\u001b[0;34m,\u001b[0m\u001b[0;34m\u001b[0m\u001b[0;34m\u001b[0m\u001b[0m\n",
      "\u001b[0;32m~/opt/anaconda3/lib/python3.8/site-packages/pandas/core/groupby/groupby.py\u001b[0m in \u001b[0;36m__init__\u001b[0;34m(self, obj, keys, axis, level, grouper, exclusions, selection, as_index, sort, group_keys, squeeze, observed, mutated, dropna)\u001b[0m\n\u001b[1;32m    558\u001b[0m             \u001b[0;32mfrom\u001b[0m \u001b[0mpandas\u001b[0m\u001b[0;34m.\u001b[0m\u001b[0mcore\u001b[0m\u001b[0;34m.\u001b[0m\u001b[0mgroupby\u001b[0m\u001b[0;34m.\u001b[0m\u001b[0mgrouper\u001b[0m \u001b[0;32mimport\u001b[0m \u001b[0mget_grouper\u001b[0m\u001b[0;34m\u001b[0m\u001b[0;34m\u001b[0m\u001b[0m\n\u001b[1;32m    559\u001b[0m \u001b[0;34m\u001b[0m\u001b[0m\n\u001b[0;32m--> 560\u001b[0;31m             grouper, exclusions, obj = get_grouper(\n\u001b[0m\u001b[1;32m    561\u001b[0m                 \u001b[0mobj\u001b[0m\u001b[0;34m,\u001b[0m\u001b[0;34m\u001b[0m\u001b[0;34m\u001b[0m\u001b[0m\n\u001b[1;32m    562\u001b[0m                 \u001b[0mkeys\u001b[0m\u001b[0;34m,\u001b[0m\u001b[0;34m\u001b[0m\u001b[0;34m\u001b[0m\u001b[0m\n",
      "\u001b[0;32m~/opt/anaconda3/lib/python3.8/site-packages/pandas/core/groupby/grouper.py\u001b[0m in \u001b[0;36mget_grouper\u001b[0;34m(obj, key, axis, level, sort, observed, mutated, validate, dropna)\u001b[0m\n\u001b[1;32m    826\u001b[0m         \u001b[0;31m# allow us to passing the actual Grouping as the gpr\u001b[0m\u001b[0;34m\u001b[0m\u001b[0;34m\u001b[0m\u001b[0;34m\u001b[0m\u001b[0m\n\u001b[1;32m    827\u001b[0m         ping = (\n\u001b[0;32m--> 828\u001b[0;31m             Grouping(\n\u001b[0m\u001b[1;32m    829\u001b[0m                 \u001b[0mgroup_axis\u001b[0m\u001b[0;34m,\u001b[0m\u001b[0;34m\u001b[0m\u001b[0;34m\u001b[0m\u001b[0m\n\u001b[1;32m    830\u001b[0m                 \u001b[0mgpr\u001b[0m\u001b[0;34m,\u001b[0m\u001b[0;34m\u001b[0m\u001b[0;34m\u001b[0m\u001b[0m\n",
      "\u001b[0;32m~/opt/anaconda3/lib/python3.8/site-packages/pandas/core/groupby/grouper.py\u001b[0m in \u001b[0;36m__init__\u001b[0;34m(self, index, grouper, obj, name, level, sort, observed, in_axis, dropna)\u001b[0m\n\u001b[1;32m    541\u001b[0m                 \u001b[0;32mif\u001b[0m \u001b[0mgetattr\u001b[0m\u001b[0;34m(\u001b[0m\u001b[0mself\u001b[0m\u001b[0;34m.\u001b[0m\u001b[0mgrouper\u001b[0m\u001b[0;34m,\u001b[0m \u001b[0;34m\"ndim\"\u001b[0m\u001b[0;34m,\u001b[0m \u001b[0;36m1\u001b[0m\u001b[0;34m)\u001b[0m \u001b[0;34m!=\u001b[0m \u001b[0;36m1\u001b[0m\u001b[0;34m:\u001b[0m\u001b[0;34m\u001b[0m\u001b[0;34m\u001b[0m\u001b[0m\n\u001b[1;32m    542\u001b[0m                     \u001b[0mt\u001b[0m \u001b[0;34m=\u001b[0m \u001b[0mself\u001b[0m\u001b[0;34m.\u001b[0m\u001b[0mname\u001b[0m \u001b[0;32mor\u001b[0m \u001b[0mstr\u001b[0m\u001b[0;34m(\u001b[0m\u001b[0mtype\u001b[0m\u001b[0;34m(\u001b[0m\u001b[0mself\u001b[0m\u001b[0;34m.\u001b[0m\u001b[0mgrouper\u001b[0m\u001b[0;34m)\u001b[0m\u001b[0;34m)\u001b[0m\u001b[0;34m\u001b[0m\u001b[0;34m\u001b[0m\u001b[0m\n\u001b[0;32m--> 543\u001b[0;31m                     \u001b[0;32mraise\u001b[0m \u001b[0mValueError\u001b[0m\u001b[0;34m(\u001b[0m\u001b[0;34mf\"Grouper for '{t}' not 1-dimensional\"\u001b[0m\u001b[0;34m)\u001b[0m\u001b[0;34m\u001b[0m\u001b[0;34m\u001b[0m\u001b[0m\n\u001b[0m\u001b[1;32m    544\u001b[0m                 \u001b[0mself\u001b[0m\u001b[0;34m.\u001b[0m\u001b[0mgrouper\u001b[0m \u001b[0;34m=\u001b[0m \u001b[0mself\u001b[0m\u001b[0;34m.\u001b[0m\u001b[0mindex\u001b[0m\u001b[0;34m.\u001b[0m\u001b[0mmap\u001b[0m\u001b[0;34m(\u001b[0m\u001b[0mself\u001b[0m\u001b[0;34m.\u001b[0m\u001b[0mgrouper\u001b[0m\u001b[0;34m)\u001b[0m\u001b[0;34m\u001b[0m\u001b[0;34m\u001b[0m\u001b[0m\n\u001b[1;32m    545\u001b[0m                 if not (\n",
      "\u001b[0;31mValueError\u001b[0m: Grouper for 'grade_level_2019' not 1-dimensional"
     ]
    }
   ],
   "source": [
    "pd.pivot_table(Primary_School, index = ['grade_level_2019'], columns = ['school_name'], aggfunc = 'count')\n",
    "\n"
   ]
  },
  {
   "cell_type": "code",
   "execution_count": null,
   "id": "b8b5ab6b",
   "metadata": {},
   "outputs": [],
   "source": []
  }
 ],
 "metadata": {
  "kernelspec": {
   "display_name": "Python 3",
   "language": "python",
   "name": "python3"
  },
  "language_info": {
   "codemirror_mode": {
    "name": "ipython",
    "version": 3
   },
   "file_extension": ".py",
   "mimetype": "text/x-python",
   "name": "python",
   "nbconvert_exporter": "python",
   "pygments_lexer": "ipython3",
   "version": "3.8.8"
  }
 },
 "nbformat": 4,
 "nbformat_minor": 5
}
